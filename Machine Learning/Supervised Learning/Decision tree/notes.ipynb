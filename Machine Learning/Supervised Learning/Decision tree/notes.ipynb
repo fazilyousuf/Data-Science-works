{
 "cells": [
  {
   "cell_type": "markdown",
   "metadata": {},
   "source": [
    "Key Points:<br><br>\n",
    "Supervised Learning: The model learns from labeled data.<br><br>\n",
    "Classification or Regression: Can be used for both types of problems.<br><br>\n",
    "Tree Structure: The decision-making process is represented as a tree with decisions made at each node based on feature values."
   ]
  },
  {
   "cell_type": "markdown",
   "metadata": {},
   "source": [
    "* set depth to avoid over fitting of decision tree\n",
    "* we set the algorithm to split the tree with each features upto when the leaf node becomes pure"
   ]
  },
  {
   "cell_type": "markdown",
   "metadata": {},
   "source": [
    "* when all the leaf node is pure , it becomes overfitted\n",
    "* This is the limitation of Decision tree\n",
    "* so we limit the splitting to certain limit to reduce overfitting"
   ]
  },
  {
   "cell_type": "markdown",
   "metadata": {},
   "source": [
    "--------------------------------------------------------------------------------------------------"
   ]
  },
  {
   "cell_type": "markdown",
   "metadata": {},
   "source": [
    "### RANDOM FOREST\n",
    "* Bagging technique comes under ensemble learning models\n",
    "* made up of group of trees\n",
    "* used for both classification and regression\n",
    "* hyper parameter used nestimator(if not used default value will be used )\n"
   ]
  }
 ],
 "metadata": {
  "language_info": {
   "name": "python"
  }
 },
 "nbformat": 4,
 "nbformat_minor": 2
}
