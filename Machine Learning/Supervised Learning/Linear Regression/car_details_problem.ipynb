{
 "cells": [
  {
   "cell_type": "code",
   "execution_count": 59,
   "metadata": {},
   "outputs": [],
   "source": [
    "import pandas as pd\n",
    "import matplotlib.pyplot as plt\n",
    "import numpy as np\n",
    "\n",
    "from sklearn.preprocessing import LabelEncoder\n",
    "from sklearn.model_selection import train_test_split \n",
    "from sklearn.linear_model import LinearRegression"
   ]
  },
  {
   "cell_type": "code",
   "execution_count": 76,
   "metadata": {},
   "outputs": [
    {
     "name": "stdout",
     "output_type": "stream",
     "text": [
      "                                     name  year  selling_price  km_driven  \\\n",
      "0                           Maruti 800 AC  2007          60000      70000   \n",
      "1                Maruti Wagon R LXI Minor  2007         135000      50000   \n",
      "2                    Hyundai Verna 1.6 SX  2012         600000     100000   \n",
      "3                  Datsun RediGO T Option  2017         250000      46000   \n",
      "4                   Honda Amaze VX i-DTEC  2014         450000     141000   \n",
      "...                                   ...   ...            ...        ...   \n",
      "4335  Hyundai i20 Magna 1.4 CRDi (Diesel)  2014         409999      80000   \n",
      "4336           Hyundai i20 Magna 1.4 CRDi  2014         409999      80000   \n",
      "4337                  Maruti 800 AC BSIII  2009         110000      83000   \n",
      "4338     Hyundai Creta 1.6 CRDi SX Option  2016         865000      90000   \n",
      "4339                     Renault KWID RXT  2016         225000      40000   \n",
      "\n",
      "        fuel seller_type transmission         owner  \n",
      "0     Petrol  Individual       Manual   First Owner  \n",
      "1     Petrol  Individual       Manual   First Owner  \n",
      "2     Diesel  Individual       Manual   First Owner  \n",
      "3     Petrol  Individual       Manual   First Owner  \n",
      "4     Diesel  Individual       Manual  Second Owner  \n",
      "...      ...         ...          ...           ...  \n",
      "4335  Diesel  Individual       Manual  Second Owner  \n",
      "4336  Diesel  Individual       Manual  Second Owner  \n",
      "4337  Petrol  Individual       Manual  Second Owner  \n",
      "4338  Diesel  Individual       Manual   First Owner  \n",
      "4339  Petrol  Individual       Manual   First Owner  \n",
      "\n",
      "[4340 rows x 8 columns]\n"
     ]
    }
   ],
   "source": [
    "data = pd.read_csv('CAR DETAILS.csv')\n",
    "print(data)"
   ]
  },
  {
   "cell_type": "code",
   "execution_count": 61,
   "metadata": {},
   "outputs": [
    {
     "data": {
      "text/plain": [
       "name             object\n",
       "year              int64\n",
       "selling_price     int64\n",
       "km_driven         int64\n",
       "fuel             object\n",
       "seller_type      object\n",
       "transmission     object\n",
       "owner            object\n",
       "dtype: object"
      ]
     },
     "execution_count": 61,
     "metadata": {},
     "output_type": "execute_result"
    }
   ],
   "source": [
    "data.dtypes"
   ]
  },
  {
   "cell_type": "code",
   "execution_count": 62,
   "metadata": {},
   "outputs": [
    {
     "data": {
      "text/plain": [
       "name             0\n",
       "year             0\n",
       "selling_price    0\n",
       "km_driven        0\n",
       "fuel             0\n",
       "seller_type      0\n",
       "transmission     0\n",
       "owner            0\n",
       "dtype: int64"
      ]
     },
     "execution_count": 62,
     "metadata": {},
     "output_type": "execute_result"
    }
   ],
   "source": [
    "data.isnull().sum()"
   ]
  },
  {
   "cell_type": "code",
   "execution_count": 63,
   "metadata": {},
   "outputs": [],
   "source": [
    "car_names = data['name'].unique()\n",
    "fuel_type = data['fuel'].unique()\n",
    "seller_type = data['seller_type'].unique()\n",
    "transmission_type = data['transmission'].unique()\n",
    "owner_type = data['owner'].unique()"
   ]
  },
  {
   "cell_type": "code",
   "execution_count": 64,
   "metadata": {},
   "outputs": [
    {
     "name": "stdout",
     "output_type": "stream",
     "text": [
      "['Maruti 800 AC' 'Maruti Wagon R LXI Minor' 'Hyundai Verna 1.6 SX' ...\n",
      " 'Mahindra Verito 1.5 D6 BSIII'\n",
      " 'Toyota Innova 2.5 VX (Diesel) 8 Seater BS IV'\n",
      " 'Hyundai i20 Magna 1.4 CRDi']\n",
      "['Petrol' 'Diesel' 'CNG' 'LPG' 'Electric']\n",
      "['Individual' 'Dealer' 'Trustmark Dealer']\n",
      "['Manual' 'Automatic']\n",
      "['First Owner' 'Second Owner' 'Fourth & Above Owner' 'Third Owner'\n",
      " 'Test Drive Car']\n"
     ]
    }
   ],
   "source": [
    "print(car_names)\n",
    "print(fuel_type)\n",
    "print(seller_type)\n",
    "print(transmission_type)\n",
    "print(owner_type)"
   ]
  },
  {
   "cell_type": "code",
   "execution_count": 7,
   "metadata": {},
   "outputs": [],
   "source": [
    "#no need to outlier removal because somany outliers\n",
    "#so it might be a feature"
   ]
  },
  {
   "cell_type": "code",
   "execution_count": null,
   "metadata": {},
   "outputs": [],
   "source": []
  },
  {
   "cell_type": "code",
   "execution_count": 79,
   "metadata": {},
   "outputs": [],
   "source": [
    "nameLabel = LabelEncoder()\n",
    "data['name'] = nameLabel.fit_transform(data['name'])\n",
    "\n",
    "fuelLabel = LabelEncoder()\n",
    "data['fuel'] = fuelLabel.fit_transform(data['fuel'])\n",
    "\n",
    "sellerLabel = LabelEncoder()\n",
    "data['seller_type'] = sellerLabel.fit_transform(data['seller_type'])\n",
    "\n",
    "transmissionLabel = LabelEncoder()\n",
    "data['transmission'] = transmissionLabel.fit_transform(data['transmission'])\n",
    "\n",
    "ownerLabel = LabelEncoder()\n",
    "data['owner'] = ownerLabel.fit_transform(data['owner'])\n"
   ]
  },
  {
   "cell_type": "code",
   "execution_count": 80,
   "metadata": {},
   "outputs": [],
   "source": [
    "x = data.drop('selling_price', axis=1)\n",
    "y= data['selling_price']"
   ]
  },
  {
   "cell_type": "code",
   "execution_count": 81,
   "metadata": {},
   "outputs": [],
   "source": [
    "x_train, x_test, y_train, y_test = train_test_split(x,y, test_size=0.25, random_state= 90)\n"
   ]
  },
  {
   "cell_type": "code",
   "execution_count": 82,
   "metadata": {},
   "outputs": [
    {
     "data": {
      "text/html": [
       "<style>#sk-container-id-4 {\n",
       "  /* Definition of color scheme common for light and dark mode */\n",
       "  --sklearn-color-text: black;\n",
       "  --sklearn-color-line: gray;\n",
       "  /* Definition of color scheme for unfitted estimators */\n",
       "  --sklearn-color-unfitted-level-0: #fff5e6;\n",
       "  --sklearn-color-unfitted-level-1: #f6e4d2;\n",
       "  --sklearn-color-unfitted-level-2: #ffe0b3;\n",
       "  --sklearn-color-unfitted-level-3: chocolate;\n",
       "  /* Definition of color scheme for fitted estimators */\n",
       "  --sklearn-color-fitted-level-0: #f0f8ff;\n",
       "  --sklearn-color-fitted-level-1: #d4ebff;\n",
       "  --sklearn-color-fitted-level-2: #b3dbfd;\n",
       "  --sklearn-color-fitted-level-3: cornflowerblue;\n",
       "\n",
       "  /* Specific color for light theme */\n",
       "  --sklearn-color-text-on-default-background: var(--sg-text-color, var(--theme-code-foreground, var(--jp-content-font-color1, black)));\n",
       "  --sklearn-color-background: var(--sg-background-color, var(--theme-background, var(--jp-layout-color0, white)));\n",
       "  --sklearn-color-border-box: var(--sg-text-color, var(--theme-code-foreground, var(--jp-content-font-color1, black)));\n",
       "  --sklearn-color-icon: #696969;\n",
       "\n",
       "  @media (prefers-color-scheme: dark) {\n",
       "    /* Redefinition of color scheme for dark theme */\n",
       "    --sklearn-color-text-on-default-background: var(--sg-text-color, var(--theme-code-foreground, var(--jp-content-font-color1, white)));\n",
       "    --sklearn-color-background: var(--sg-background-color, var(--theme-background, var(--jp-layout-color0, #111)));\n",
       "    --sklearn-color-border-box: var(--sg-text-color, var(--theme-code-foreground, var(--jp-content-font-color1, white)));\n",
       "    --sklearn-color-icon: #878787;\n",
       "  }\n",
       "}\n",
       "\n",
       "#sk-container-id-4 {\n",
       "  color: var(--sklearn-color-text);\n",
       "}\n",
       "\n",
       "#sk-container-id-4 pre {\n",
       "  padding: 0;\n",
       "}\n",
       "\n",
       "#sk-container-id-4 input.sk-hidden--visually {\n",
       "  border: 0;\n",
       "  clip: rect(1px 1px 1px 1px);\n",
       "  clip: rect(1px, 1px, 1px, 1px);\n",
       "  height: 1px;\n",
       "  margin: -1px;\n",
       "  overflow: hidden;\n",
       "  padding: 0;\n",
       "  position: absolute;\n",
       "  width: 1px;\n",
       "}\n",
       "\n",
       "#sk-container-id-4 div.sk-dashed-wrapped {\n",
       "  border: 1px dashed var(--sklearn-color-line);\n",
       "  margin: 0 0.4em 0.5em 0.4em;\n",
       "  box-sizing: border-box;\n",
       "  padding-bottom: 0.4em;\n",
       "  background-color: var(--sklearn-color-background);\n",
       "}\n",
       "\n",
       "#sk-container-id-4 div.sk-container {\n",
       "  /* jupyter's `normalize.less` sets `[hidden] { display: none; }`\n",
       "     but bootstrap.min.css set `[hidden] { display: none !important; }`\n",
       "     so we also need the `!important` here to be able to override the\n",
       "     default hidden behavior on the sphinx rendered scikit-learn.org.\n",
       "     See: https://github.com/scikit-learn/scikit-learn/issues/21755 */\n",
       "  display: inline-block !important;\n",
       "  position: relative;\n",
       "}\n",
       "\n",
       "#sk-container-id-4 div.sk-text-repr-fallback {\n",
       "  display: none;\n",
       "}\n",
       "\n",
       "div.sk-parallel-item,\n",
       "div.sk-serial,\n",
       "div.sk-item {\n",
       "  /* draw centered vertical line to link estimators */\n",
       "  background-image: linear-gradient(var(--sklearn-color-text-on-default-background), var(--sklearn-color-text-on-default-background));\n",
       "  background-size: 2px 100%;\n",
       "  background-repeat: no-repeat;\n",
       "  background-position: center center;\n",
       "}\n",
       "\n",
       "/* Parallel-specific style estimator block */\n",
       "\n",
       "#sk-container-id-4 div.sk-parallel-item::after {\n",
       "  content: \"\";\n",
       "  width: 100%;\n",
       "  border-bottom: 2px solid var(--sklearn-color-text-on-default-background);\n",
       "  flex-grow: 1;\n",
       "}\n",
       "\n",
       "#sk-container-id-4 div.sk-parallel {\n",
       "  display: flex;\n",
       "  align-items: stretch;\n",
       "  justify-content: center;\n",
       "  background-color: var(--sklearn-color-background);\n",
       "  position: relative;\n",
       "}\n",
       "\n",
       "#sk-container-id-4 div.sk-parallel-item {\n",
       "  display: flex;\n",
       "  flex-direction: column;\n",
       "}\n",
       "\n",
       "#sk-container-id-4 div.sk-parallel-item:first-child::after {\n",
       "  align-self: flex-end;\n",
       "  width: 50%;\n",
       "}\n",
       "\n",
       "#sk-container-id-4 div.sk-parallel-item:last-child::after {\n",
       "  align-self: flex-start;\n",
       "  width: 50%;\n",
       "}\n",
       "\n",
       "#sk-container-id-4 div.sk-parallel-item:only-child::after {\n",
       "  width: 0;\n",
       "}\n",
       "\n",
       "/* Serial-specific style estimator block */\n",
       "\n",
       "#sk-container-id-4 div.sk-serial {\n",
       "  display: flex;\n",
       "  flex-direction: column;\n",
       "  align-items: center;\n",
       "  background-color: var(--sklearn-color-background);\n",
       "  padding-right: 1em;\n",
       "  padding-left: 1em;\n",
       "}\n",
       "\n",
       "\n",
       "/* Toggleable style: style used for estimator/Pipeline/ColumnTransformer box that is\n",
       "clickable and can be expanded/collapsed.\n",
       "- Pipeline and ColumnTransformer use this feature and define the default style\n",
       "- Estimators will overwrite some part of the style using the `sk-estimator` class\n",
       "*/\n",
       "\n",
       "/* Pipeline and ColumnTransformer style (default) */\n",
       "\n",
       "#sk-container-id-4 div.sk-toggleable {\n",
       "  /* Default theme specific background. It is overwritten whether we have a\n",
       "  specific estimator or a Pipeline/ColumnTransformer */\n",
       "  background-color: var(--sklearn-color-background);\n",
       "}\n",
       "\n",
       "/* Toggleable label */\n",
       "#sk-container-id-4 label.sk-toggleable__label {\n",
       "  cursor: pointer;\n",
       "  display: block;\n",
       "  width: 100%;\n",
       "  margin-bottom: 0;\n",
       "  padding: 0.5em;\n",
       "  box-sizing: border-box;\n",
       "  text-align: center;\n",
       "}\n",
       "\n",
       "#sk-container-id-4 label.sk-toggleable__label-arrow:before {\n",
       "  /* Arrow on the left of the label */\n",
       "  content: \"▸\";\n",
       "  float: left;\n",
       "  margin-right: 0.25em;\n",
       "  color: var(--sklearn-color-icon);\n",
       "}\n",
       "\n",
       "#sk-container-id-4 label.sk-toggleable__label-arrow:hover:before {\n",
       "  color: var(--sklearn-color-text);\n",
       "}\n",
       "\n",
       "/* Toggleable content - dropdown */\n",
       "\n",
       "#sk-container-id-4 div.sk-toggleable__content {\n",
       "  max-height: 0;\n",
       "  max-width: 0;\n",
       "  overflow: hidden;\n",
       "  text-align: left;\n",
       "  /* unfitted */\n",
       "  background-color: var(--sklearn-color-unfitted-level-0);\n",
       "}\n",
       "\n",
       "#sk-container-id-4 div.sk-toggleable__content.fitted {\n",
       "  /* fitted */\n",
       "  background-color: var(--sklearn-color-fitted-level-0);\n",
       "}\n",
       "\n",
       "#sk-container-id-4 div.sk-toggleable__content pre {\n",
       "  margin: 0.2em;\n",
       "  border-radius: 0.25em;\n",
       "  color: var(--sklearn-color-text);\n",
       "  /* unfitted */\n",
       "  background-color: var(--sklearn-color-unfitted-level-0);\n",
       "}\n",
       "\n",
       "#sk-container-id-4 div.sk-toggleable__content.fitted pre {\n",
       "  /* unfitted */\n",
       "  background-color: var(--sklearn-color-fitted-level-0);\n",
       "}\n",
       "\n",
       "#sk-container-id-4 input.sk-toggleable__control:checked~div.sk-toggleable__content {\n",
       "  /* Expand drop-down */\n",
       "  max-height: 200px;\n",
       "  max-width: 100%;\n",
       "  overflow: auto;\n",
       "}\n",
       "\n",
       "#sk-container-id-4 input.sk-toggleable__control:checked~label.sk-toggleable__label-arrow:before {\n",
       "  content: \"▾\";\n",
       "}\n",
       "\n",
       "/* Pipeline/ColumnTransformer-specific style */\n",
       "\n",
       "#sk-container-id-4 div.sk-label input.sk-toggleable__control:checked~label.sk-toggleable__label {\n",
       "  color: var(--sklearn-color-text);\n",
       "  background-color: var(--sklearn-color-unfitted-level-2);\n",
       "}\n",
       "\n",
       "#sk-container-id-4 div.sk-label.fitted input.sk-toggleable__control:checked~label.sk-toggleable__label {\n",
       "  background-color: var(--sklearn-color-fitted-level-2);\n",
       "}\n",
       "\n",
       "/* Estimator-specific style */\n",
       "\n",
       "/* Colorize estimator box */\n",
       "#sk-container-id-4 div.sk-estimator input.sk-toggleable__control:checked~label.sk-toggleable__label {\n",
       "  /* unfitted */\n",
       "  background-color: var(--sklearn-color-unfitted-level-2);\n",
       "}\n",
       "\n",
       "#sk-container-id-4 div.sk-estimator.fitted input.sk-toggleable__control:checked~label.sk-toggleable__label {\n",
       "  /* fitted */\n",
       "  background-color: var(--sklearn-color-fitted-level-2);\n",
       "}\n",
       "\n",
       "#sk-container-id-4 div.sk-label label.sk-toggleable__label,\n",
       "#sk-container-id-4 div.sk-label label {\n",
       "  /* The background is the default theme color */\n",
       "  color: var(--sklearn-color-text-on-default-background);\n",
       "}\n",
       "\n",
       "/* On hover, darken the color of the background */\n",
       "#sk-container-id-4 div.sk-label:hover label.sk-toggleable__label {\n",
       "  color: var(--sklearn-color-text);\n",
       "  background-color: var(--sklearn-color-unfitted-level-2);\n",
       "}\n",
       "\n",
       "/* Label box, darken color on hover, fitted */\n",
       "#sk-container-id-4 div.sk-label.fitted:hover label.sk-toggleable__label.fitted {\n",
       "  color: var(--sklearn-color-text);\n",
       "  background-color: var(--sklearn-color-fitted-level-2);\n",
       "}\n",
       "\n",
       "/* Estimator label */\n",
       "\n",
       "#sk-container-id-4 div.sk-label label {\n",
       "  font-family: monospace;\n",
       "  font-weight: bold;\n",
       "  display: inline-block;\n",
       "  line-height: 1.2em;\n",
       "}\n",
       "\n",
       "#sk-container-id-4 div.sk-label-container {\n",
       "  text-align: center;\n",
       "}\n",
       "\n",
       "/* Estimator-specific */\n",
       "#sk-container-id-4 div.sk-estimator {\n",
       "  font-family: monospace;\n",
       "  border: 1px dotted var(--sklearn-color-border-box);\n",
       "  border-radius: 0.25em;\n",
       "  box-sizing: border-box;\n",
       "  margin-bottom: 0.5em;\n",
       "  /* unfitted */\n",
       "  background-color: var(--sklearn-color-unfitted-level-0);\n",
       "}\n",
       "\n",
       "#sk-container-id-4 div.sk-estimator.fitted {\n",
       "  /* fitted */\n",
       "  background-color: var(--sklearn-color-fitted-level-0);\n",
       "}\n",
       "\n",
       "/* on hover */\n",
       "#sk-container-id-4 div.sk-estimator:hover {\n",
       "  /* unfitted */\n",
       "  background-color: var(--sklearn-color-unfitted-level-2);\n",
       "}\n",
       "\n",
       "#sk-container-id-4 div.sk-estimator.fitted:hover {\n",
       "  /* fitted */\n",
       "  background-color: var(--sklearn-color-fitted-level-2);\n",
       "}\n",
       "\n",
       "/* Specification for estimator info (e.g. \"i\" and \"?\") */\n",
       "\n",
       "/* Common style for \"i\" and \"?\" */\n",
       "\n",
       ".sk-estimator-doc-link,\n",
       "a:link.sk-estimator-doc-link,\n",
       "a:visited.sk-estimator-doc-link {\n",
       "  float: right;\n",
       "  font-size: smaller;\n",
       "  line-height: 1em;\n",
       "  font-family: monospace;\n",
       "  background-color: var(--sklearn-color-background);\n",
       "  border-radius: 1em;\n",
       "  height: 1em;\n",
       "  width: 1em;\n",
       "  text-decoration: none !important;\n",
       "  margin-left: 1ex;\n",
       "  /* unfitted */\n",
       "  border: var(--sklearn-color-unfitted-level-1) 1pt solid;\n",
       "  color: var(--sklearn-color-unfitted-level-1);\n",
       "}\n",
       "\n",
       ".sk-estimator-doc-link.fitted,\n",
       "a:link.sk-estimator-doc-link.fitted,\n",
       "a:visited.sk-estimator-doc-link.fitted {\n",
       "  /* fitted */\n",
       "  border: var(--sklearn-color-fitted-level-1) 1pt solid;\n",
       "  color: var(--sklearn-color-fitted-level-1);\n",
       "}\n",
       "\n",
       "/* On hover */\n",
       "div.sk-estimator:hover .sk-estimator-doc-link:hover,\n",
       ".sk-estimator-doc-link:hover,\n",
       "div.sk-label-container:hover .sk-estimator-doc-link:hover,\n",
       ".sk-estimator-doc-link:hover {\n",
       "  /* unfitted */\n",
       "  background-color: var(--sklearn-color-unfitted-level-3);\n",
       "  color: var(--sklearn-color-background);\n",
       "  text-decoration: none;\n",
       "}\n",
       "\n",
       "div.sk-estimator.fitted:hover .sk-estimator-doc-link.fitted:hover,\n",
       ".sk-estimator-doc-link.fitted:hover,\n",
       "div.sk-label-container:hover .sk-estimator-doc-link.fitted:hover,\n",
       ".sk-estimator-doc-link.fitted:hover {\n",
       "  /* fitted */\n",
       "  background-color: var(--sklearn-color-fitted-level-3);\n",
       "  color: var(--sklearn-color-background);\n",
       "  text-decoration: none;\n",
       "}\n",
       "\n",
       "/* Span, style for the box shown on hovering the info icon */\n",
       ".sk-estimator-doc-link span {\n",
       "  display: none;\n",
       "  z-index: 9999;\n",
       "  position: relative;\n",
       "  font-weight: normal;\n",
       "  right: .2ex;\n",
       "  padding: .5ex;\n",
       "  margin: .5ex;\n",
       "  width: min-content;\n",
       "  min-width: 20ex;\n",
       "  max-width: 50ex;\n",
       "  color: var(--sklearn-color-text);\n",
       "  box-shadow: 2pt 2pt 4pt #999;\n",
       "  /* unfitted */\n",
       "  background: var(--sklearn-color-unfitted-level-0);\n",
       "  border: .5pt solid var(--sklearn-color-unfitted-level-3);\n",
       "}\n",
       "\n",
       ".sk-estimator-doc-link.fitted span {\n",
       "  /* fitted */\n",
       "  background: var(--sklearn-color-fitted-level-0);\n",
       "  border: var(--sklearn-color-fitted-level-3);\n",
       "}\n",
       "\n",
       ".sk-estimator-doc-link:hover span {\n",
       "  display: block;\n",
       "}\n",
       "\n",
       "/* \"?\"-specific style due to the `<a>` HTML tag */\n",
       "\n",
       "#sk-container-id-4 a.estimator_doc_link {\n",
       "  float: right;\n",
       "  font-size: 1rem;\n",
       "  line-height: 1em;\n",
       "  font-family: monospace;\n",
       "  background-color: var(--sklearn-color-background);\n",
       "  border-radius: 1rem;\n",
       "  height: 1rem;\n",
       "  width: 1rem;\n",
       "  text-decoration: none;\n",
       "  /* unfitted */\n",
       "  color: var(--sklearn-color-unfitted-level-1);\n",
       "  border: var(--sklearn-color-unfitted-level-1) 1pt solid;\n",
       "}\n",
       "\n",
       "#sk-container-id-4 a.estimator_doc_link.fitted {\n",
       "  /* fitted */\n",
       "  border: var(--sklearn-color-fitted-level-1) 1pt solid;\n",
       "  color: var(--sklearn-color-fitted-level-1);\n",
       "}\n",
       "\n",
       "/* On hover */\n",
       "#sk-container-id-4 a.estimator_doc_link:hover {\n",
       "  /* unfitted */\n",
       "  background-color: var(--sklearn-color-unfitted-level-3);\n",
       "  color: var(--sklearn-color-background);\n",
       "  text-decoration: none;\n",
       "}\n",
       "\n",
       "#sk-container-id-4 a.estimator_doc_link.fitted:hover {\n",
       "  /* fitted */\n",
       "  background-color: var(--sklearn-color-fitted-level-3);\n",
       "}\n",
       "</style><div id=\"sk-container-id-4\" class=\"sk-top-container\"><div class=\"sk-text-repr-fallback\"><pre>LinearRegression()</pre><b>In a Jupyter environment, please rerun this cell to show the HTML representation or trust the notebook. <br />On GitHub, the HTML representation is unable to render, please try loading this page with nbviewer.org.</b></div><div class=\"sk-container\" hidden><div class=\"sk-item\"><div class=\"sk-estimator fitted sk-toggleable\"><input class=\"sk-toggleable__control sk-hidden--visually\" id=\"sk-estimator-id-4\" type=\"checkbox\" checked><label for=\"sk-estimator-id-4\" class=\"sk-toggleable__label fitted sk-toggleable__label-arrow fitted\">&nbsp;&nbsp;LinearRegression<a class=\"sk-estimator-doc-link fitted\" rel=\"noreferrer\" target=\"_blank\" href=\"https://scikit-learn.org/1.5/modules/generated/sklearn.linear_model.LinearRegression.html\">?<span>Documentation for LinearRegression</span></a><span class=\"sk-estimator-doc-link fitted\">i<span>Fitted</span></span></label><div class=\"sk-toggleable__content fitted\"><pre>LinearRegression()</pre></div> </div></div></div></div>"
      ],
      "text/plain": [
       "LinearRegression()"
      ]
     },
     "execution_count": 82,
     "metadata": {},
     "output_type": "execute_result"
    }
   ],
   "source": [
    "selling_price_model = LinearRegression()\n",
    "selling_price_model.fit(x_train, y_train)"
   ]
  },
  {
   "cell_type": "code",
   "execution_count": 83,
   "metadata": {},
   "outputs": [
    {
     "name": "stdout",
     "output_type": "stream",
     "text": [
      "0.44181876110977447\n",
      "0.451785900012018\n"
     ]
    }
   ],
   "source": [
    "#testing score  \n",
    "print(selling_price_model.score(x_test,y_test))\n",
    "\n",
    "#training score\n",
    "print(selling_price_model.score(x_train, y_train))"
   ]
  },
  {
   "cell_type": "code",
   "execution_count": 84,
   "metadata": {},
   "outputs": [],
   "source": [
    "y_pred = selling_price_model.predict(x_test)"
   ]
  },
  {
   "cell_type": "code",
   "execution_count": 85,
   "metadata": {},
   "outputs": [
    {
     "data": {
      "text/html": [
       "<div>\n",
       "<style scoped>\n",
       "    .dataframe tbody tr th:only-of-type {\n",
       "        vertical-align: middle;\n",
       "    }\n",
       "\n",
       "    .dataframe tbody tr th {\n",
       "        vertical-align: top;\n",
       "    }\n",
       "\n",
       "    .dataframe thead th {\n",
       "        text-align: right;\n",
       "    }\n",
       "</style>\n",
       "<table border=\"1\" class=\"dataframe\">\n",
       "  <thead>\n",
       "    <tr style=\"text-align: right;\">\n",
       "      <th></th>\n",
       "      <th>true values</th>\n",
       "      <th>predicted values</th>\n",
       "    </tr>\n",
       "  </thead>\n",
       "  <tbody>\n",
       "    <tr>\n",
       "      <th>2095</th>\n",
       "      <td>263000</td>\n",
       "      <td>3.634370e+05</td>\n",
       "    </tr>\n",
       "    <tr>\n",
       "      <th>1504</th>\n",
       "      <td>180000</td>\n",
       "      <td>2.032511e+05</td>\n",
       "    </tr>\n",
       "    <tr>\n",
       "      <th>3884</th>\n",
       "      <td>160000</td>\n",
       "      <td>1.146866e+05</td>\n",
       "    </tr>\n",
       "    <tr>\n",
       "      <th>502</th>\n",
       "      <td>300000</td>\n",
       "      <td>2.716335e+05</td>\n",
       "    </tr>\n",
       "    <tr>\n",
       "      <th>1113</th>\n",
       "      <td>250000</td>\n",
       "      <td>3.891400e+05</td>\n",
       "    </tr>\n",
       "    <tr>\n",
       "      <th>...</th>\n",
       "      <td>...</td>\n",
       "      <td>...</td>\n",
       "    </tr>\n",
       "    <tr>\n",
       "      <th>4176</th>\n",
       "      <td>225000</td>\n",
       "      <td>5.161875e+05</td>\n",
       "    </tr>\n",
       "    <tr>\n",
       "      <th>1371</th>\n",
       "      <td>475000</td>\n",
       "      <td>6.800588e+05</td>\n",
       "    </tr>\n",
       "    <tr>\n",
       "      <th>1842</th>\n",
       "      <td>520000</td>\n",
       "      <td>1.397794e+06</td>\n",
       "    </tr>\n",
       "    <tr>\n",
       "      <th>1221</th>\n",
       "      <td>165000</td>\n",
       "      <td>2.431912e+05</td>\n",
       "    </tr>\n",
       "    <tr>\n",
       "      <th>773</th>\n",
       "      <td>250000</td>\n",
       "      <td>5.718665e+05</td>\n",
       "    </tr>\n",
       "  </tbody>\n",
       "</table>\n",
       "<p>1085 rows × 2 columns</p>\n",
       "</div>"
      ],
      "text/plain": [
       "      true values  predicted values\n",
       "2095       263000      3.634370e+05\n",
       "1504       180000      2.032511e+05\n",
       "3884       160000      1.146866e+05\n",
       "502        300000      2.716335e+05\n",
       "1113       250000      3.891400e+05\n",
       "...           ...               ...\n",
       "4176       225000      5.161875e+05\n",
       "1371       475000      6.800588e+05\n",
       "1842       520000      1.397794e+06\n",
       "1221       165000      2.431912e+05\n",
       "773        250000      5.718665e+05\n",
       "\n",
       "[1085 rows x 2 columns]"
      ]
     },
     "execution_count": 85,
     "metadata": {},
     "output_type": "execute_result"
    }
   ],
   "source": [
    "pd.DataFrame({'true values': y_test, 'predicted values': y_pred})"
   ]
  },
  {
   "cell_type": "code",
   "execution_count": 73,
   "metadata": {},
   "outputs": [
    {
     "data": {
      "text/plain": [
       "Index(['name', 'year', 'selling_price', 'km_driven', 'fuel', 'seller_type',\n",
       "       'transmission', 'owner'],\n",
       "      dtype='object')"
      ]
     },
     "execution_count": 73,
     "metadata": {},
     "output_type": "execute_result"
    }
   ],
   "source": [
    "data.columns"
   ]
  },
  {
   "cell_type": "code",
   "execution_count": 74,
   "metadata": {},
   "outputs": [
    {
     "data": {
      "text/html": [
       "<div>\n",
       "<style scoped>\n",
       "    .dataframe tbody tr th:only-of-type {\n",
       "        vertical-align: middle;\n",
       "    }\n",
       "\n",
       "    .dataframe tbody tr th {\n",
       "        vertical-align: top;\n",
       "    }\n",
       "\n",
       "    .dataframe thead th {\n",
       "        text-align: right;\n",
       "    }\n",
       "</style>\n",
       "<table border=\"1\" class=\"dataframe\">\n",
       "  <thead>\n",
       "    <tr style=\"text-align: right;\">\n",
       "      <th></th>\n",
       "      <th>name</th>\n",
       "      <th>year</th>\n",
       "      <th>selling_price</th>\n",
       "      <th>km_driven</th>\n",
       "      <th>fuel</th>\n",
       "      <th>seller_type</th>\n",
       "      <th>transmission</th>\n",
       "      <th>owner</th>\n",
       "    </tr>\n",
       "  </thead>\n",
       "  <tbody>\n",
       "    <tr>\n",
       "      <th>0</th>\n",
       "      <td>775</td>\n",
       "      <td>2007</td>\n",
       "      <td>60000</td>\n",
       "      <td>70000</td>\n",
       "      <td>4</td>\n",
       "      <td>1</td>\n",
       "      <td>1</td>\n",
       "      <td>0</td>\n",
       "    </tr>\n",
       "    <tr>\n",
       "      <th>1</th>\n",
       "      <td>1041</td>\n",
       "      <td>2007</td>\n",
       "      <td>135000</td>\n",
       "      <td>50000</td>\n",
       "      <td>4</td>\n",
       "      <td>1</td>\n",
       "      <td>1</td>\n",
       "      <td>0</td>\n",
       "    </tr>\n",
       "    <tr>\n",
       "      <th>2</th>\n",
       "      <td>505</td>\n",
       "      <td>2012</td>\n",
       "      <td>600000</td>\n",
       "      <td>100000</td>\n",
       "      <td>1</td>\n",
       "      <td>1</td>\n",
       "      <td>1</td>\n",
       "      <td>0</td>\n",
       "    </tr>\n",
       "    <tr>\n",
       "      <th>3</th>\n",
       "      <td>118</td>\n",
       "      <td>2017</td>\n",
       "      <td>250000</td>\n",
       "      <td>46000</td>\n",
       "      <td>4</td>\n",
       "      <td>1</td>\n",
       "      <td>1</td>\n",
       "      <td>0</td>\n",
       "    </tr>\n",
       "    <tr>\n",
       "      <th>4</th>\n",
       "      <td>279</td>\n",
       "      <td>2014</td>\n",
       "      <td>450000</td>\n",
       "      <td>141000</td>\n",
       "      <td>1</td>\n",
       "      <td>1</td>\n",
       "      <td>1</td>\n",
       "      <td>2</td>\n",
       "    </tr>\n",
       "  </tbody>\n",
       "</table>\n",
       "</div>"
      ],
      "text/plain": [
       "   name  year  selling_price  km_driven  fuel  seller_type  transmission  \\\n",
       "0   775  2007          60000      70000     4            1             1   \n",
       "1  1041  2007         135000      50000     4            1             1   \n",
       "2   505  2012         600000     100000     1            1             1   \n",
       "3   118  2017         250000      46000     4            1             1   \n",
       "4   279  2014         450000     141000     1            1             1   \n",
       "\n",
       "   owner  \n",
       "0      0  \n",
       "1      0  \n",
       "2      0  \n",
       "3      0  \n",
       "4      2  "
      ]
     },
     "execution_count": 74,
     "metadata": {},
     "output_type": "execute_result"
    }
   ],
   "source": [
    "data.head()"
   ]
  },
  {
   "cell_type": "code",
   "execution_count": 86,
   "metadata": {},
   "outputs": [
    {
     "name": "stdout",
     "output_type": "stream",
     "text": [
      "Maruti 800 AC,Maruti Wagon R LXI Minor,Hyundai Verna 1.6 SX,Datsun RediGO T Option,Honda Amaze VX i-DTEC,Maruti Alto LX BSIII,Hyundai Xcent 1.2 Kappa S,Tata Indigo Grand Petrol,Hyundai Creta 1.6 VTVT S,Maruti Celerio Green VXI,Chevrolet Sail 1.2 Base,Toyota Corolla Altis 1.8 VL CVT,Maruti Ciaz VXi Plus,Hyundai Venue SX Opt Diesel,Chevrolet Enjoy TCDi LTZ 7 Seater,Jaguar XF 2.2 Litre Luxury,Mercedes-Benz New C-Class 220 CDI AT,Maruti Vitara Brezza ZDi Plus AMT,Audi Q5 2.0 TDI,Honda City V MT,Tata Tigor 1.2 Revotron XT,Audi A6 2.0 TDI  Design Edition,Mercedes-Benz New C-Class C 220 CDI Avantgarde,Skoda Superb Ambition 2.0 TDI CR AT,Toyota Corolla Altis G AT,Toyota Innova 2.5 G (Diesel) 7 Seater,Jeep Compass 1.4 Sport Plus BSIV,Mercedes-Benz E-Class E 200 CGI Elegance,Hyundai i10 Magna 1.1L,BMW 3 Series 320d Sport Line,Audi Q7 35 TDI Quattro Premium,Hyundai Elantra CRDi S,Mahindra Scorpio 1.99 S10,Honda City i DTEC V,Maruti Wagon R VXI BS IV with ABS,Maruti Wagon R VXI BS IV,Mahindra Scorpio LX,Hyundai Santro Xing GLS,Hyundai Grand i10 1.2 Kappa Asta,Maruti Alto LXi,Maruti Swift Dzire VDI Optional,Maruti Eeco 5 Seater AC BSIV,Hyundai i20 Sportz 1.4 CRDi,Maruti Omni Maruti Omni MPI STD BSIII 5-STR W/ IMMOBILISER,Maruti Swift ZDi BSIV,Hyundai i20 2015-2017 Sportz Option 1.4 CRDi,Mahindra Jeep CL 500 MDI,Honda City i DTEC VX,Tata Indica DLS,Hyundai EON Magna Plus,Toyota Etios GD,Chevrolet Tavera Neo LS B3 - 7(C) seats BSIII,Toyota Corolla Altis Diesel D4DG,Mahindra Scorpio 1.99 S6 Plus,Tata Indigo Classic Dicor,Toyota Innova 2.5 V Diesel 8-seater,Tata Indica Vista Quadrajet LS,Maruti Swift 1.3 VXi,Ford EcoSport 1.5 Diesel Titanium BSIV,Maruti Ciaz 1.3 Delta,Honda Civic 1.8 V AT,Hyundai i10 Sportz 1.2,Skoda Rapid 1.5 TDI Elegance,Hyundai Getz GLS,Nissan Terrano XL,Hyundai Grand i10 CRDi Sportz,Hyundai Elite i20 Diesel Era,Honda Amaze S i-VTEC,Honda Brio S MT,Hyundai Creta 1.6 SX Option,Mercedes-Benz S-Class S 350d Connoisseurs Edition,Mahindra XUV500 W8 2WD,Renault Duster 85PS Diesel RxL Optional,Hyundai Santro Xing XO,Mahindra Bolero 2011-2019 SLE,Audi A6 2.0 TDI Premium Plus,Fiat Avventura MULTIJET Emotion,Audi A8 4.2 TDI,Datsun RediGO 1.0 S,Volkswagen Jetta 1.4 TSI Comfortline,Audi A4 2.0 TDI 177 Bhp Premium Plus,Mercedes-Benz E-Class Exclusive E 200 BSIV,BMW X1 sDrive 20d xLine,Volvo V40 D3 R Design,Maruti SX4 Zxi BSIII,BMW 7 Series 730Ld,Mahindra Bolero Power Plus SLX,Hyundai Sonata CRDi M/T,Nissan Micra Active XV Petrol,Mahindra Xylo D4,Hyundai Elite i20 Sportz Plus Dual Tone BSIV,Renault KWID RXT,Mahindra Xylo E4 BS III,Maruti SX4 ZXI MT BSIV,Hyundai Creta 1.4 CRDi S,Maruti Swift Dzire VDI,Hyundai Verna 1.6 VTVT AT S Option,Mahindra Scorpio LX BSIV,Maruti SX4 Vxi BSIII,Maruti Ertiga VDI,Chevrolet Beat Diesel,Maruti Zen LX,Maruti Baleno Delta 1.2,Maruti Swift Vdi BSIII,Tata Nano Lx BSIV,Toyota Innova 2.5 GX (Diesel) 8 Seater,Maruti Ertiga SHVS VDI,Hyundai Creta 1.6 CRDi SX,Honda Amaze S i-Vtech,Tata Indica Vista Aqua 1.4 TDI,Chevrolet Tavera Neo 2 LS B4 7 Str BSIII,Chevrolet Cruze LTZ,Ford Figo Aspire 1.2 Ti-VCT Titanium Plus,Ford EcoSport 1.5 Diesel Titanium Plus BSIV,Hyundai i10 Sportz 1.1L,Maruti 800 Std,Chevrolet Spark 1.0 LS,Hyundai EON Era Plus,Tata Indica Vista Aqua TDI BSIII,Hyundai Santro LP zipPlus,Tata Bolt Quadrajet XE,Maruti 800 AC BSIII,Hyundai i20 Magna 1.2,Hyundai i20 1.2 Asta,Maruti Ciaz VDi Plus,Hyundai i20 Asta 1.4 CRDi,Hyundai Santro LE,Maruti Vitara Brezza VDi,Hyundai Santro Xing XL eRLX Euro III,Hyundai Getz 1.3 GLS,Mahindra Quanto C8,Chevrolet Tavera Neo 3 LS 7 C BSIII,Maruti Wagon R DUO LPG,Maruti Wagon R LXI,Chevrolet Enjoy 1.3 TCDi LS 8,Honda City i VTEC SV,Jaguar XJ 5.0 L V8 Supercharged,Honda Brio E MT,Maruti Swift VVT ZXI,Tata Indigo CR4,Hyundai i10 Asta AT,Chevrolet Beat LT,Maruti Swift VDI BSIV,Renault Duster 110PS Diesel RxZ,Hyundai Santro Xing XG,Maruti Swift Dzire ZXI Plus,Maruti Alto K10 LXI CNG,Maruti 800 Std BSII,Tata Nano LX SE,Skoda Rapid 1.6 MPI Ambition With Alloy Wheel,Maruti Alto K10 VXI,Maruti Ciaz 1.4 Delta,Maruti Alto LX,Hyundai i20 Asta,Tata Nexon 1.2 Revotron XM,Maruti Zen D,Volkswagen Vento Celeste 1.5 TDI Highline AT,Maruti Eeco 7 Seater Standard BSIV,Honda City 1.5 EXI,Maruti SX4 Zxi with Leather BSIII,Ford Figo Diesel Titanium,Maruti Swift Dzire VDi,Mahindra Xylo E4,Maruti Esteem Vxi - BSIII,Hyundai i20 1.2 Sportz,Chevrolet Beat Diesel LT,Chevrolet Cruze LTZ AT,Nissan Micra XL,BMW 5 Series 520d Luxury Line,Hyundai EON Era Plus Option,Fiat Linea T Jet Emotion,Renault Scala RxL,Ford Figo Petrol Titanium,Maruti Ciaz ZDi SHVS,Skoda Rapid 1.5 TDI Ambition BSIV,Mahindra XUV500 W6 2WD,Mahindra XUV300 W8 Option,Maruti Ertiga SHVS ZDI,Nissan Terrano XE D,Maruti S-Cross Facelift,Hyundai i20 Magna 1.4 CRDi (Diesel),Mercedes-Benz New C-Class C 220 CDI BE Avantgare,Volkswagen Ameo 1.5 TDI Highline,Maruti Omni LPG CARGO BSIII W IMMOBILISER,Hyundai Verna i (Petrol),Mahindra Renault Logan 1.5 DLS,Chevrolet Optra Magnum 2.0 LS BSIII,Mahindra Scorpio S11 BSIV,Hyundai i20 Active 1.2 SX,Maruti SX4 Celebration Diesel,Hyundai Grand i10 Magna,Maruti Alto LXi BSIII,Hyundai i10 Era,Toyota Innova 2.5 V Diesel 7-seater,Honda Mobilio V i DTEC,Toyota Innova 2.5 G (Diesel) 7 Seater BS IV,Tata Indica V2 2001-2011 DLS BSIII,Tata Indica Vista TDI LS,Chevrolet Beat Diesel LS,Tata Zest Quadrajet 1.3 75PS XE,Skoda Fabia 1.2L Diesel Ambiente,Toyota Innova 2.5 VX (Diesel) 8 Seater,Hyundai Grand i10 1.2 CRDi Asta,Datsun GO Plus T Option Petrol,Maruti Omni MPI STD BSIV,Maruti Baleno Alpha 1.2,Ford Fiesta Classic 1.4 SXI Duratorq,Hyundai Elite i20 Asta Option BSIV,Hyundai Grand i10 CRDi Magna,Hyundai Santro Xing GL Plus,Tata Sumo GX TC 7 Str BSIII,Maruti Vitara Brezza LDi Option,Honda Jazz S,Hyundai i20 1.4 Sportz,Maruti Ertiga SHVS ZDI Plus,Tata Sumo SE Plus BSIII,Maruti Ertiga VXI,Hyundai i20 1.4 Magna ABS,Hyundai Getz GL,Maruti Wagon R LX BS IV,Hyundai i20 1.2 Spotz,Maruti Alto 800 VXI,Hyundai i20 Asta (o),Hyundai Verna 1.6 SX CRDi (O),Mahindra Xylo D2 BSIV,Mahindra Bolero SLX 2WD BSIII,Maruti Ertiga VXI ABS,Honda Brio 1.2 E MT,Toyota Etios Liva G,Maruti Alto 800 LXI,Maruti Swift Dzire 1.2 Vxi BSIV,Mahindra Scorpio VLS AT 2.2 mHAWK,Mahindra Bolero SLX,Mahindra XUV500 W11 Option AWD,Tata Tiago 1.2 Revotron XZ,Mahindra Marazzo M8 8Str,Renault Duster 110PS Diesel RxL,Maruti Wagon R VXI,Chevrolet Spark 1.0 LT,Maruti Baleno Alpha,Hyundai EON 1.0 Kappa Magna Plus,Ford Figo Aspire 1.2 Ti-VCT Trend,Ford Figo Aspire Facelift,Hyundai Verna 1.4 VTVT,Chevrolet Sail 1.2 LT ABS,Honda City i-DTEC SV,Mahindra Bolero Power Plus Plus AC BSIV PS,Hyundai Grand i10 1.2 Kappa Sportz Option,Maruti Baleno Sigma 1.2,Maruti A-Star Vxi,Datsun GO A,Skoda Yeti Ambition 4WD,Maruti Zen LXi BSII,Hyundai Verna CRDi 1.6 EX,Ford Aspire Titanium Diesel BSIV,BMW 3 Series 320d Sport,BMW X1 sDrive 20d Exclusive,Toyota Innova Crysta 2.4 VX MT,Chevrolet Tavera Neo 3 10 Seats BSIV,Mitsubishi Outlander 2.4,Maruti Baleno Alpha 1.3,Ford Figo Aspire 1.5 TDCi Titanium,Ford Endeavour Titanium 4X2,Mahindra Scorpio 2.6 Turbo 9 Str,Maruti Baleno Vxi,Tata Indica DLX,Tata Indica LSI,Toyota Etios Liva GD,Tata Nano STD,Hyundai Grand i10 Sportz,Mahindra Scorpio S7 140 BSIV,Volkswagen Polo Petrol Comfortline 1.2L,Hyundai Xcent 1.1 CRDi Base,Chevrolet Beat Diesel PS,Maruti Swift ZXi BSIV,Maruti Ritz VDi,Tata Indigo CS Emax CNG GLX,Maruti Eeco 5 STR With AC Plus HTR CNG,Maruti Estilo LXI,Maruti Swift VXI with ABS,Tata Zest Quadrajet 1.3 XM,Maruti Alto K10 VXI AGS Optional,Mahindra Scorpio SLE BSIV,Hyundai Santro Xing GLS CNG,Ford Figo Diesel Celebration Edition,Renault KWID RXT Optional,Renault KWID 1.0 RXT Optional,Skoda Rapid 1.5 TDI AT Style BSIV,Chevrolet Spark 1.0,Ford Fiesta 1.6 ZXi Duratec,Tata Manza Aura Quadrajet BS IV,Maruti Swift VVT VXI,Hyundai i20 Sportz Petrol,Maruti Zen Estilo VXI BSIV,Toyota Innova 2.5 G (Diesel) 8 Seater BS IV,Tata Tiago 1.2 Revotron XZA,Maruti Vitara Brezza ZDi,Maruti Swift VXI BSIII,Maruti Swift VXI BSIV,Hyundai i20 Active 1.2 S,Hyundai Santro GLS I - Euro I,Tata Safari Storme VX,Mahindra Scorpio REV 116,Datsun GO Plus A,Toyota Fortuner 4x4 MT,Ford Ecosport 1.5 DV5 MT Titanium,Mahindra XUV500 W11 AT BSIV,Mahindra Supro VX 8 Str,Ford Endeavour 2.5L 4X2 MT,Mahindra KUV 100 D75 K2,Maruti Swift Glam,Tata New Safari DICOR 2.2 EX 4x2,Honda Brio 1.2 VX MT,Chevrolet Sail Hatchback LS ABS,Tata Tiago NRG Petrol,Maruti Vitara Brezza ZDi Plus,Hyundai Santro Era,Honda City i-DTEC V,Hyundai Verna 1.6 CRDI,Hyundai EON D Lite Plus,Ford Endeavour 4x4 XLT,Volkswagen Jetta 2.0 TDI Trendline,Volkswagen Polo 1.5 TDI Highline,Hyundai i20 Asta 1.2,Renault Duster 85PS Diesel RxE,Maruti Omni E MPI STD BS IV,Honda Brio S Option AT,Honda Accord 2.4 MT,Ford Figo 1.2P Ambiente MT,Tata Nano Lx,Tata Indigo LS Dicor,Tata Indica Vista Terra 1.4 TDI,Maruti Zen VXI,Chevrolet Beat LS,Maruti Swift VDI,Maruti Wagon R AMT VXI,Mahindra TUV 300 T4 Plus,Maruti 800 AC BSII,Hyundai Santro Magna BSIV,Tata Zest Revotron 1.2 XT,Mahindra XUV500 W11 Option AT AWD,Volkswagen Polo Diesel Trendline 1.2L,Hyundai Verna CRDi,Tata Indica Vista Quadrajet LX,Renault Duster 85PS Diesel RxL,Hyundai i10 Era 1.1,Maruti Swift Dzire ZDI,Ford Figo Diesel ZXI,Maruti Wagon R LXI BSIII,Maruti Swift Ldi BSIV,Volkswagen Vento Diesel Highline,Datsun GO Plus T Option BSIV,Maruti Alto K10 VXI Airbag,Hyundai EON LPG Magna Plus,Mahindra Bolero DI DX 7 Seater,Maruti Ertiga BSIV ZXI,Honda BR-V i-VTEC S MT,Toyota Etios VD,Hyundai Santro Xing GLS Audio LPG,Ford Figo 1.2P Titanium MT,Fiat Avventura Urban Cross 1.3 Multijet Emotion,Ford EcoSport 1.5 TDCi Titanium BSIV,Maruti Swift Ldi BSIII,Ford Fiesta Classic 1.4 Duratorq CLXI,Ford Figo Titanium Diesel BSIV,Ford Ikon 1.3L Rocam Flair,Fiat Punto 1.3 Emotion,Honda WR-V i-DTEC V,Skoda Laura L n K 1.9 PD,Maruti Ritz LDi,Mahindra Xylo D2,Honda City i DTEC S,Mahindra Scorpio 1.99 S4,Tata Indigo Grand Dicor,Honda Amaze EX i-Dtech,Hyundai Creta 1.6 CRDi SX Plus,Toyota Etios GD SP,Maruti SX4 S Cross DDiS 320 Delta,Toyota Fortuner 2.8 4WD AT BSIV,Maruti Ciaz VDi Option SHVS,Mahindra Scorpio VLX 2WD AIRBAG SE BSIV,Hyundai Tucson 2.0 e-VGT 2WD MT,Jaguar XF 5.0 Litre V8 Petrol,Hyundai Creta 1.6 VTVT AT SX Plus,Hyundai Verna VTVT 1.6 AT SX Option,Mercedes-Benz GL-Class 350 CDI Blue Efficiency,Maruti Swift ZXI BSIV,Maruti S-Cross Zeta DDiS 200 SH,Hyundai Verna 1.6 VTVT SX,Volkswagen Polo GTI,Renault Pulse RxL,Maruti Celerio VXI AMT BSIV,Honda Brio V MT,Hyundai Creta 1.6 SX Automatic Diesel,Honda City i VTEC V,Toyota Innova Crysta 2.4 GX AT,BMW 3 Series 320d Luxury Line,Mercedes-Benz C-Class Progressive C 220d,Audi A4 3.0 TDI Quattro,BMW X5 xDrive 30d xLine,Maruti SX4 Vxi BSIV,Hyundai Grand i10 1.2 Kappa Magna AT,Hyundai Grand i10 Magna AT,Chevrolet Beat LT Option,Toyota Fortuner 4x2 AT,Hyundai i10 Magna,Hyundai Santro GS,Skoda Laura Ambiente 2.0 TDI CR MT,Hyundai i20 Sportz 1.2,Maruti Gypsy E MG410W ST,Tata Nexon 1.5 Revotorq XZ,Mahindra Verito 1.5 D4 BSIV,Chevrolet Tavera LS B3 7 Seats BSII,Chevrolet Optra Magnum 2.0 LS,Maruti Eeco 5 Seater Standard BSIV,Honda Civic 1.8 MT Sport,Tata Hexa XT 4X4,Tata Indica Vista Quadrajet VX,Mahindra Scorpio 2.6 CRDe SLE,Maruti Zen Estilo LXI BSIII,Maruti Swift Dzire AMT ZXI Plus BS IV,Honda Amaze S AT i-Vtech,Maruti Swift VXI,Mahindra Renault Logan 1.4 GLX Petrol,Hyundai i10 Magna LPG,Tata Venture EX,Chevrolet Captiva LT,Chevrolet Aveo U-VA 1.2 LS,Maruti Ciaz Zeta BSIV,Tata Hexa XM,Hyundai Santro Xing GL PLUS CNG,Mahindra Thar CRDe ABS,Maruti Alto K10 2010-2014 VXI,Maruti Alto K10 LXI,Honda City 1.5 V AT,Maruti Ritz LXI,Honda Jazz VX,Mahindra Scorpio SLE BSIII,Skoda Rapid 1.6 MPI AT Elegance Plus,Tata Nano LX,Maruti Zen Estilo 1.1 VXI BSIII,Maruti Wagon R LX Minor,Skoda Octavia Classic 1.9 TDI MT,Maruti Swift AMT VXI,Honda Amaze SX i-VTEC,Hyundai Grand i10 Nios Magna CRDi,Volkswagen Jetta 1.9 L TDI,Hyundai Xcent 1.1 CRDi SX Option,Hyundai Santro Xing GL Plus LPG,Hyundai Accent Executive,Maruti Celerio VXI AT,Hyundai Creta 1.6 CRDi AT SX Plus,Maruti Ertiga VXI CNG,Hyundai Verna 1.6 SX VTVT,Hyundai Grand i10 1.2 Kappa Sportz Dual Tone,Toyota Etios V,Volkswagen Vento Petrol Highline AT,Volkswagen Polo Diesel Highline 1.2L,Mahindra KUV 100 mFALCON D75 K8,Audi A4 New  2.0 TDI Multitronic,Volkswagen Polo Petrol Highline 1.2L,Skoda Rapid 1.6 MPI Active,Maruti Ertiga ZDI,Maruti Wagon R Stingray LXI,Skoda Superb 1.8 TSI,Tata Indigo LS,Land Rover Discovery Sport TD4 HSE 7S,Tata Sumo GX TC 8 Str,Hyundai i20 Magna,Hyundai Verna CRDi 1.6 SX Option,Tata Tiago XZA AMT,Toyota Innova Crysta 2.4 VX MT BSIV,Hyundai Grand i10 AT Asta,Maruti Ciaz VXi,Mahindra XUV500 W8 4WD,Renault Lodgy 85PS RxL,Mahindra Scorpio S6 Plus 7 Seater,Maruti Swift LDI BSIV,Hyundai i20 2015-2017 Magna 1.2,Maruti Wagon R LXI BS IV,Mahindra Bolero 2011-2019 SLX 2WD BSIII,Toyota Innova Crysta 2.8 ZX AT BSIV,Maruti Ciaz VDI SHVS,Tata Indica GLS BS IV,Honda City i DTec SV,Maruti Swift LXI,Maruti Zen LXI,Honda WR-V i-VTEC VX,Toyota Fortuner 2.8 2WD AT BSIV,Toyota Innova Crysta 2.4 ZX MT,Volkswagen Polo 1.5 TDI Trendline,Mahindra Verito Vibe 1.5 dCi D4,Volkswagen Vento Magnific 1.6 Highline,Maruti Swift Dzire LDI,Tata New Safari DICOR 2.2 GX 4x2,Maruti SX4 ZDI,Hyundai Verna 1.6 SX VTVT (O),Fiat Grande Punto 1.3 Dynamic (Diesel),Maruti Wagon R Stingray VXI,Toyota Etios Liva 1.4 VD,Hyundai Xcent 1.2 Kappa SX,Honda Amaze VX O iDTEC,Maruti Ciaz 1.4 AT Zeta,Mahindra Scorpio S4 4WD,Maruti Swift 1.3 VXI ABS,Ford Ecosport 1.0 Ecoboost Titanium Optional,Renault KWID Climber 1.0 AMT BSIV,Renault KWID RXL BSIV,Hyundai EON 1.0 Era Plus,Toyota Innova 2.5 G (Diesel) 8 Seater,Toyota Innova 2.5 G4 Diesel 8-seater,Mahindra KUV 100 G80 K2,Hyundai i20 1.4 Asta Option,Renault KWID RXL,Maruti Celerio ZXI Optional AMT BSIV,Fiat Palio D 1.9 EL PS,Fiat Linea Classic 1.3 Multijet,Maruti Alto 800 CNG LXI,Maruti Swift Dzire VXi,Hyundai Grand i10 1.2 Kappa Sportz BSIV,Honda Brio 1.2 S MT,Tata Zest Revotron 1.2T XE,Hyundai Creta 1.4 CRDi Base,Mercedes-Benz M-Class ML 350 CDI,Toyota Innova Crysta 2.4 GX MT 8S BSIV,Tata New Safari DICOR 2.2 EX 4x4,Mahindra Marazzo M4,Toyota Etios Cross 1.2L G,Mahindra KUV 100 mFALCON D75 K8 AW,Maruti Swift Dzire VXI,Hyundai i20 Asta 1.4 CRDi (Diesel),Toyota Innova 2.0 GX 8 STR BSIV,Tata Hexa XTA,Hyundai Verna 1.6 SX VTVT AT,Maruti Swift Dzire VXI 1.2 BS IV,Maruti SX4 ZDI Leather,Maruti Ignis 1.2 Alpha BSIV,Honda Mobilio V i VTEC,Hyundai Getz 1.3 GVS,Ford Fiesta Titanium 1.5 TDCi,Hyundai Accent GLE CNG,Tata Tigor 1.2 Revotron XM,Hyundai i10 Magna 1.1,Nissan Sunny Diesel XV,Tata Nano Std,Chevrolet Tavera LT L1 7 Seats BSIII,Mahindra Verito 1.5 D2 BSIV,Hyundai EON D Lite,Toyota Innova 2.5 GX (Diesel) 7 Seater,Nissan Terrano XV Premium 110 PS,Nissan Sunny XV D Premium Leather,Mahindra Bolero 2011-2019 SLX,Hyundai Santro Xing XG eRLX Euro III,Volkswagen Jetta 2.0L TDI Highline AT,Tata Indica Vista Quadrajet 90 VX,Honda City VX MT,Volkswagen Jetta 1.9 Highline TDI,Volkswagen Vento 1.5 TDI Highline Plus AT,Maruti Wagon R VXI AMT1.2BSIV,Hyundai Grand i10 Asta,Volkswagen Polo 1.0 MPI Trendline,Hyundai Creta 1.6 CRDi SX Option,Hyundai Grand i10 Asta Option,Maruti Swift DDiS LDI,Hyundai i10 Sportz 1.2 AT,Volkswagen Vento 1.5 TDI Comfortline,Skoda Rapid 1.5 TDI AT Ambition,Hyundai Getz GLE,Mahindra Scorpio M2DI,Ford Endeavour XLT TDCi 4X2,Audi Q3 35 TDI Quattro Technology,Audi A5 Sportback,Chevrolet Sail Hatchback 1.3 TCDi LT ABS,Hyundai Accent CRDi,BMW 7 Series Signature 730Ld,Toyota Camry 2.5 Hybrid,Mahindra XUV500 W5 BSIV,Mahindra XUV300 W8 Option Diesel BSIV,Mahindra Thar CRDe,Honda Mobilio E i DTEC,Maruti Ciaz ZXi Plus,Fiat Grande Punto EVO 1.3 Dynamic,Ford Endeavour Hurricane Limited Edition,Land Rover Discovery S 2.0 SD4,Hyundai i10 Era 1.1 iTech SE,Maruti Vitara Brezza VDi Option,Hyundai i20 Sportz Option 1.2,Ford Endeavour 3.0L 4X4 AT,Hyundai Santro LE zipPlus,Hyundai Creta 1.4 EX Diesel,Hyundai Verna CRDi 1.6 SX,Tata Indigo LX,Mitsubishi Pajero Sport 4X4,Ford Fiesta 1.5 TDCi Titanium,Honda City i-VTEC CVT ZX,BMW 3 Series GT Luxury Line,Maruti Baleno Alpha CVT,Hyundai i20 1.4 Magna Executive,Maruti Baleno Zeta,Honda City VTEC,Ford Endeavour 3.2 Titanium AT 4X4,Tata Xenon XT EX 4X2,Nissan Terrano XL Plus 85 PS,Ford Ecosport 1.5 DV5 MT Ambiente,Skoda Laura Elegance 1.9 TDI  AT,Maruti Alto 800 LXI Airbag,Mahindra Bolero SLX 2WD,Mahindra Jeep MM 540,Skoda Octavia Elegance 2.0 TDI AT,Honda Jazz 1.5 VX i DTEC,Honda City i-VTEC ZX,Maruti Vitara Brezza ZDi Plus AMT Dual Tone,Maruti Celerio LXI MT BSIV,Renault Captur 1.5 Diesel RXT,Audi A4 30 TFSI Technology,Honda Amaze VX Diesel BSIV,Toyota Corolla Altis 1.8 VL AT,Honda Amaze VX Petrol BSIV,Honda Amaze VX i-VTEC,Mahindra KUV 100 mFALCON G80 K2,Maruti Zen Estilo Sports,Maruti Ertiga ZDI Plus,Audi Q3 2.0 TDI Quattro Premium Plus,Tata Zest Revotron 1.2T XMS,Audi Q5 2.0 TFSI Quattro Premium Plus,Datsun GO T Petrol,Mahindra Jeep CJ 500 DI,Renault Pulse RxZ,Land Rover Discovery Sport SD4 HSE Luxury,Volkswagen Polo 2015-2019 1.2 MPI Highline,Honda City i-VTEC SV,Tata Sumo Gold EX,Tata Indica DLE,Honda City S,Mercedes-Benz New C-Class C 220 CDI Grand Edition,Toyota Innova 2.5 VX 8 STR,Mahindra Xylo D4 BSIV,Toyota Innova Crysta 2.5 VX BS IV,Hyundai Verna CRDi 1.6 AT SX Option,Mahindra Scorpio S2 7 Seater,Hyundai i10 Magna 1.2 iTech SE,Mahindra Bolero DI,Hyundai Santro Xing XS,Maruti Esteem VX,Honda Amaze S i-Dtech,Hyundai Santro Xing XG AT,Skoda Yeti Ambition 4X2,Maruti Wagon R LXI CNG,Hyundai Verna SX,Maruti SX4 Celebration Petrol,Hyundai i20 Active S Diesel,Honda Amaze V CVT Petrol BSIV,Maruti Ciaz ZXi,Hyundai i20 Active SX Petrol,Nissan Terrano XL 85 PS,Mahindra Bolero B6,Mahindra Scorpio SLE BS IV,Maruti Ertiga ZXI,Maruti Swift ZDI Plus,Maruti Wagon R VXI BSIII,Chevrolet Tavera Neo 2 LT L 9 Str,Tata Indica Vista Aura Plus 1.3 Quadrajet,Renault Duster 85PS Diesel RxL Plus,Maruti Swift Dzire Vdi BSIV,Volkswagen Polo Diesel Comfortline 1.2L,Maruti Gypsy King Hard Top,Tata Manza Club Class Quadrajet90 VX,Maruti Swift VXI Deca,Maruti Ignis 1.2 AMT Delta BSIV,Toyota Innova Crysta 2.4 VX MT 8S BSIV,Mahindra Bolero Power Plus LX,Maruti Swift 1.2 DLX,Mahindra KUV 100 mFALCON D75 K6,Tata Nano Cx BSIV,Mahindra TUV 300 T4,Tata Safari Storme VX Varicor 400,Maruti Baleno Delta Automatic,Hyundai i20 Active S Petrol,Tata Indica Vista Terra Quadrajet 1.3L,Nissan Sunny XL,Volkswagen Vento Diesel Style Limited Edition,Chevrolet Aveo 1.4 LS,Chevrolet Beat PS,Honda City E,Maruti Wagon R VXI Minor ABS,Maruti Omni BSIII 8-STR W/ IMMOBILISER,Mahindra Xylo H4 ABS,Hyundai Elantra CRDi (Leather Option),Toyota Corolla Altis D-4D J,Hyundai i20 1.4 CRDi Era,Tata Indica Vista Aqua 1.3 Quadrajet,Hyundai Verna XXi (Petrol),Maruti Wagon R LX,Hyundai Santro Xing XK (Non-AC),Volkswagen Passat 1.8 TSI MT,Ford Figo Diesel LXI,Ford EcoSport 1.5 Ti VCT MT Trend BSIV,Toyota Corolla Executive (HE),Ford Freestyle Titanium Diesel BSIV,Maruti Ignis 1.2 Zeta BSIV,Toyota Etios Liva 1.2 G,Toyota Corolla H6,Renault Duster RXL AWD,Volkswagen Polo 1.5 TDI Comfortline,Ford Figo Diesel EXI,Honda Jazz VX CVT,Maruti Swift Dzire Tour LDI,Maruti 800 Std MPFi,Hyundai Verna 1.6 CRDI SX Option,Mercedes-Benz E-Class E250 CDI Blue Efficiency,Toyota Etios 1.4 VXD,Mahindra Quanto C6,Volkswagen Vento 1.5 TDI Highline,Maruti Ciaz ZDi,Volkswagen Ameo 1.5 TDI Comfortline,Tata Nano CX SE,Tata Manza Aura Quadrajet,Maruti Omni E 8 Str STD,Chevrolet Optra 1.6 LS,Mahindra TUV 300 T10,Mahindra Alturas G4 4X2 AT BSIV,Maruti Zen Estilo LX BSIII,Tata Indica LXI,Maruti Wagon R VXI Optional,Tata Sumo Victa CX 7/9 Str BSII,Skoda Superb Elegance 2.0 TDI CR AT,Jeep Compass 2.0 Longitude Option BSIV,Tata Indica DL,Ford Fiesta 1.6 ZXi Leather,Mahindra Scorpio EX,Hyundai Santro Xing XL AT eRLX Euro III,Mahindra Thar DI 4X4 PS,Hyundai Grand i10 1.2 Kappa Magna BSIV,Ford Fiesta 1.4 Duratec ZXI,Hyundai i20 Asta Option 1.4 CRDi,Maruti Swift Dzire LXI,Maruti 800 EX,Renault KWID Climber 1.0 AMT,Mahindra Bolero Power Plus SLE,Hyundai Xcent 1.2 VTVT S,Maruti Wagon R LXI LPG BSIV,Nissan Micra Diesel XV Premium,Maruti Zen LXi - BS III,Honda City i DTEC SV,Toyota Innova 2.5 VX (Diesel) 7 Seater,Honda Civic 1.8 (E) MT,Maruti Zen Estilo 1.1 LXI BSIII,Honda City 1.5 V MT,Tata Manza ELAN Quadrajet BS IV,Mahindra Xylo E4 ABS BS IV,Honda WR-V i-DTEC VX,Nissan Terrano XL 110 PS,Honda Amaze S CVT Petrol,Maruti Esteem Lxi,Toyota Corolla Altis Diesel D4DGL,Tata Indica Vista Aura 1.2 Safire,Mahindra Bolero SLE,Hyundai Elite i20 Asta Option CVT BSIV,Hyundai Creta 1.4 E Plus,Honda Jazz 1.5 E i DTEC,Tata Aria Pure LX 4x2,Ford Freestyle Trend Petrol BSIV,Mahindra Jeep MM 775 XDB,Hyundai Grand i10 1.2 CRDi Magna,Maruti Zen Estilo LX BSIV,Maruti 800 DX,Honda City 1.5 GXI,Honda CR-V Diesel 4WD,Maruti Ertiga BSIV VXI AT,Volkswagen Polo 1.0 TSI Highline Plus,Audi A4 35 TDI Premium,Hyundai Xcent 1.1 CRDi SX,Mahindra Scorpio 2.6 SLX Turbo 7 Seater,Ford Ecosport 1.0 Ecoboost Titanium,Jaguar XF 3.0 Litre S Premium Luxury,Maruti Zen Estilo VXI BSIII,Toyota Innova 2.5 E 8 STR,Hyundai i20 1.4 CRDi Asta,Nissan Micra XL CVT,Mahindra Scorpio VLX AT 2WD BSIII,Toyota Corolla AE,Hyundai Grand i10 Nios Sportz,Chevrolet Tavera Neo 3 LT 9 Seats BSIII,Hyundai Grand i10 Nios AMT Magna,Hyundai Verna 1.6 VTVT S,Tata Manza Aqua Quadrajet BS IV,Maruti Wagon R LX BSIII,Toyota Etios Cross 1.4L GD,Renault KWID RXT BSIV,Daewoo Matiz SD,Tata Hexa XT,Honda Jazz V,Maruti A-Star Lxi,Audi A8 L 3.0 TDI quattro,Hyundai Elantra SX,Datsun redi-GO AMT 1.0 T Option,Tata Nano Cx BSIII,BMW X1 sDrive20d M Sport,Chevrolet Enjoy TCDi LT 7 Seater,Honda Amaze S Diesel,Mahindra KUV 100 D75 K6 Plus,Honda City i-VTEC CVT VX,Honda Brio VX,MG Hector Sharp Diesel MT BSIV,Audi A4 35 TDI Premium Plus,Renault Scala Diesel RxL,Skoda Laura Ambiente 1.9 PD,Ford Fiesta Diesel Style,Skoda Laura 1.9 TDI MT Ambiente,Toyota Innova 2.5 VX (Diesel) 7 Seater BS IV,Mercedes-Benz E-Class 220 CDI,Ford Figo Aspire 1.5 TDCi Trend,Tata Indigo GLX,Maruti Swift Dzire LDI Optional,Ford EcoSport 1.5 Diesel Ambiente BSIV,Skoda Rapid 1.6 TDI Elegance,Hyundai i20 1.4 CRDi Sportz,Chevrolet Aveo 1.4 LT BSIV,Mahindra Quanto C4,Honda Mobilio S i DTEC,Hyundai Santa Fe 4WD AT,Tata Manza Aura (ABS) Safire BS IV,Force One EX,Mahindra Xylo D2 BS IV,Hyundai Santro Magna AMT BSIV,Tata Indigo LS BSII,Hyundai Verna CRDi SX ABS,Tata New Safari DICOR 2.2 GX 4x2 BS IV,Tata Indica Vista Aura 1.3 Quadrajet,Mahindra Bolero Power Plus Plus Non AC BSIV PS,Mahindra Scorpio VLX 2WD AIRBAG BSIV,Toyota Innova 2.5 Z Diesel 7 Seater BS IV,Honda Brio 1.2 S Option MT,Hyundai Santro Sportz BSIV,Fiat Linea Dynamic,Maruti Alto 800 LX,Maruti SX4 S Cross DDiS 320 Zeta,Mahindra Jeep Classic,Mahindra Scorpio 2.6 Turbo 7 Str,Toyota Innova 2.5 GX (Diesel) 7 Seater BS IV,Ford Figo Petrol LXI,Maruti Swift ZXI ABS,Mahindra XUV500 W6 1.99 mHawk,Maruti Alto K10 LX,Maruti Wagon R VX,Tata Indica Vista Aqua 1.2 Safire BSIV,Honda Civic 1.8 S AT,Mahindra NuvoSport N8,Hyundai Verna Transform CRDi VGT SX ABS,Volkswagen Vento New Diesel Highline,Maruti S-Presso VXI Plus,Honda Civic 1.8 S MT,Toyota Etios Liva 1.2 VX,Toyota Yaris G,Maruti Swift LXI Option,Maruti Ciaz ZDi Plus,Maruti Ciaz 1.4 Alpha,Toyota Corolla Altis GL MT,Maruti Esteem Lxi - BSIII,Volkswagen Vento Diesel Comfortline,Maruti SX4 ZXI AT,Maruti Swift Dzire AMT ZXI,Mahindra TUV 300 T8 AMT,Ford Fusion 1.6 Duratec Petrol,Honda City i-VTEC VX,Maruti Esteem Vxi,Hyundai Verna 1.6 VTVT,Tata Sumo Victa EX 7/9 Str BSII,Chevrolet Sail Hatchback 1.2 LS,Mahindra Bolero Power Plus ZLX,Datsun RediGO S,Skoda Fabia 1.2 MPI Ambition Plus,Renault Fluence 1.5,Maruti Wagon R LXI DUO BS IV,Mahindra TUV 300 Plus P4,Volkswagen Jetta 2.0 TDI Comfortline,Maruti Swift LDI Optional,Maruti SX4 VDI,Chevrolet Aveo 1.4 CNG,Hyundai Elite i20 Magna Plus BSIV,Mahindra Thar 4X4,Hyundai EON Magna Optional,Maruti Omni 5 Str STD LPG,Maruti 800 DUO AC LPG,Toyota Innova Crysta 2.4 G MT BSIV,Hyundai Accent GLX,Maruti Swift VDI Optional,Hyundai Santro Xing XK eRLX EuroIII,Maruti Baleno Zeta 1.2,Ford Freestyle Titanium Diesel,Ford Figo Titanium,Ford Ecosport 1.5 Diesel Titanium,Ford Figo 1.5D Titanium Opt MT,Toyota Etios VX,Hyundai Accent GLS,Maruti Ignis 1.3 Delta,Tata Indigo CS LX (TDI) BS-III,Maruti Alto K10 VXI AGS,Nissan Evalia XV,Hyundai Grand i10 1.2 CRDi Sportz Option,Mahindra KUV 100 D75 K4 Plus 5Str,Hyundai Verna SX Diesel,Honda City Corporate Edition,Hyundai EON Era,Datsun RediGO 1.0 T Option,Maruti Alto LXI,Hyundai i10 Magna 1.2,Renault Captur 1.5 Diesel RXT Mono,Mahindra Xylo D2 Maxx,Ford Aspire Titanium BSIV,Ford EcoSport 1.5 Ti VCT MT Titanium BE BSIV,Ford Ecosport 1.5 Petrol Trend,Ford EcoSport 1.5 TDCi Titanium Plus BSIV,Ford Freestyle Titanium,Ford Ecosport Thunder Edition Diesel,Ford Freestyle Titanium Plus,Mahindra Scorpio S2 9 Seater,Mahindra Scorpio VLS 2.2 mHawk,Honda Accord VTi-L (MT),Tata Indigo CS LE (TDI) BS-III,Volkswagen Ameo 1.5 TDI Highline Plus 16,Ford Ecosport 1.5 Petrol Titanium Plus,Mahindra XUV500 AT W10 AWD,Mahindra XUV500 W10 2WD,Maruti Swift Dzire AMT VDI,Tata New Safari 4X4,Hyundai Verna SX CRDi AT,Renault Koleos 2.0 Diesel,Maruti Wagon R LXI DUO BSIII,Ford Ikon 1.8 D,Mercedes-Benz New C-Class 200 CDI Classic,Maruti Ertiga SHVS LDI Option,Tata Manza Aura (ABS) Quadrajet BS IV,Maruti Wagon R VXi BSII,Ford Fiesta 1.5 TDCi Ambiente,Renault KWID 1.0,Mahindra Scorpio S10 7 Seater,Chevrolet Enjoy TCDi LS 8 Seater,Tata Indica Vista TDI LX,Fiat Grande Punto EVO 1.3 Active,Mitsubishi Pajero 2.8 SFX BSIV Dual Tone,Mahindra Scorpio 2.6 SLX CRDe,Maruti Swift VXI Optional,Mahindra Thar DI 4X2,Maruti Ritz VXi,Tata Nexon 1.2 Revotron XZ Plus Dual Tone,Toyota Innova 2.5 G1 BSIV,Maruti Vitara Brezza LDi,Hyundai Verna Transform CRDi VGT ABS,Ford Freestyle Titanium Plus Diesel,Ford Figo 1.5P Titanium AT,Ford Figo 1.5D Titanium MT,Skoda Rapid 1.5 TDI AT Ambition BSIV,Tata Manza Aura Safire,Maruti Swift Dzire ZXI,Mahindra Bolero SLE BSIII,Hyundai Verna VTVT 1.6 SX,Fiat Punto 1.2 Active,Maruti Alto LXi BSII,Honda City 1.5 EXI S,Honda Amaze E i-VTEC,Tata Safari Storme EX,Volkswagen Ameo 1.2 MPI Trendline,Hyundai Verna 1.6 Xi ABS,Chevrolet Aveo 1.6 LT,Mahindra Bolero DI DX 8 Seater,Hyundai Verna 1.4 EX,Ford Figo Petrol ZXI,Tata Harrier XZ BSIV,Mahindra KUV 100 mFALCON G80 K8 5str,Hyundai i10 Sportz,Maruti Ignis 1.2 Delta BSIV,Toyota Corolla Altis 1.8 J,Tata Manza Club Class Quadrajet90 LS,Maruti Wagon R VXI Minor,Hyundai Accent GLE,Toyota Innova 2.0 VX 7 Seater,Maruti Alto 800 CNG LXI Optional,Maruti Ritz LXi,Chevrolet Aveo 1.6 LT with ABS,Tata Altroz XZ,Volkswagen Polo SR Petrol 1.2L,Skoda Superb 1.8 TFSI MT,Tata Tiago 2019-2020 XE Diesel,Tata Tiago 1.05 Revotorq XE,Hyundai Santro LS zipPlus,Mahindra XUV500 AT W10 FWD,Mahindra Scorpio VLX 2WD BSIV,Mahindra Scorpio VLX 2.2 mHawk Airbag BSIV,Hyundai Verna CRDi ABS,Mercedes-Benz E-Class 230,Maruti Omni 8 Seater BSIV,Ford Fiesta 1.4 ZXi TDCi ABS,Tata New Safari Dicor EX 4X2 BS IV,Mahindra XUV500 W7,Maruti Baleno Delta 1.3,Tata Nano Twist XT,Maruti Wagon R AX,Mahindra Scorpio SLX 2.6 Turbo 8 Str,Tata Tiago 1.05 Revotorq XT Option,Hyundai Elite i20 Sportz Plus BSIV,Honda Brio Exclusive Edition,Hyundai Verna Transform SX VTVT,Maruti Swift Dzire ZXI 1.2 BS IV,Maruti Swift VDi BSIII W/ ABS,Hyundai Accent GLE 1,Hyundai Getz GLX,Ford Ecosport 1.5 Petrol Ambiente,Honda BR-V i-VTEC VX MT,Tata Indigo CS eLX BS IV,Maruti Ertiga 1.5 VDI,Isuzu D-Max V-Cross Standard,Nissan Kicks XV Premium D BSIV,Maruti Alto 800 Base,Volkswagen Ameo 1.5 TDI Highline 16 Alloy,Hyundai Santro AT CNG,Ford Ecosport Sports Petrol,Hyundai Tucson CRDi,Tata Indigo TDI,Nissan Micra Diesel XV Primo,Tata Sumo LX,Maruti Celerio ZXI,OpelCorsa 1.6Gls,Chevrolet Tavera Neo 3 Max 9 Str BSIII,Mahindra Scorpio VLX 2WD ABS AT BSIII,Datsun GO Plus T BSIV,Hyundai Santro Xing GL,Chevrolet Aveo U-VA 1.2 LT WO ABS Airbag,Honda BR-V i-DTEC VX MT,Chevrolet Sail Hatchback LT ABS,Honda City 1.3 EXI,Hyundai Getz 1.5 CRDi GVS,Renault Lodgy Stepway 85PS RXZ 8S,Toyota Etios 1.5 V,Datsun GO Plus A Option Petrol,Tata Tiago 1.2 Revotron XE,Nissan Sunny Diesel XL,Mahindra XUV500 AT W8 FWD,Hyundai Santro Sportz AMT,Nissan Micra Active XV S,Mercedes-Benz E-Class E250 CDI Elegance,Audi Q5 3.0 TDI Quattro Technology,Datsun GO Plus T,Toyota Camry Hybrid 2.5,Volkswagen Jetta 2.0L TDI Highline,Mahindra Marazzo M2 8Str,Ford Ecosport 1.5 DV5 MT Titanium Optional,Maruti Celerio ZXI MT BSIV,Honda BRV i-VTEC V MT,Maruti Omni 5 Str STD,Hyundai i20 Asta (o) 1.4 CRDi (Diesel),Maruti Omni 8 Seater BSII,Mercedes-Benz B Class B180 Sports,Toyota Etios Liva VD,Volkswagen Vento 1.5 TDI Highline BSIV,Renault KWID Climber 1.0 MT Opt BSIV,Hyundai Santro Asta,Ford Figo Aspire Titanium Plus Diesel,Renault Pulse RxZ Optional,Nissan Terrano XL P,Tata Manza Club Class Quadrajet90 LX,Toyota Camry M/t,Renault Duster 85PS Diesel RxZ,Maruti Swift ZXI Plus,Toyota Corolla H3,Tata Safari DICOR 2.2 EX 4x2,Maruti Wagon R Duo Lxi,Mahindra Bolero B4,Maruti Celerio VXI,Chevrolet Beat Diesel LT Option,Maruti Eeco Smiles 5 Seater AC,Hyundai Santro GLS I - Euro II,Chevrolet Spark 1.0 PS,Maruti Swift ZDi,Toyota Innova 2.5 E Diesel MS 7-seater,Mahindra Scorpio 2.6 CRDe,Honda Jazz Select Edition Active,Hyundai i20 Active 1.4 SX,Mahindra TUV 300 T8,Toyota Etios Liva 1.2 V,Toyota Innova 2.5 GX 7 STR BSIV,Hyundai i20 Magna Optional 1.2,Honda City 1.5 S MT,Honda Amaze E i-Dtech,Maruti Swift Dzire LXi,Hyundai Creta 1.4 CRDi S Plus,Honda Jazz 1.5 SV i DTEC,Mahindra Renault Logan 1.6 Petrol GLSX,Maruti Alto VXi,Mahindra XUV500 W10 1.99 mHawk,Mahindra Xylo E8,Fiat 500 Lounge,Renault Triber RXT BSIV,Tata New Safari 4X4 EX,Mahindra TUV 300 mHAWK100 T8,Tata Altroz XE,Maruti Wagon R ZXI 1.2,Hyundai Xcent 1.2 CRDi E,Maruti Alto Green LXi (CNG),Hyundai i20 1.2 Era,Ford Ikon 1.4 ZXi,Maruti Zen VXi - BS III,Chevrolet Optra Magnum 2.0 LT,Maruti Ertiga VDI Limited Edition,Mahindra KUV 100 mFALCON G80 K2 Plus,Mitsubishi Montero 3.2 MT,Tata Indica Vista Aqua 1.3 Quadrajet ABS BSIV,Hyundai i20 Magna Optional 1.4 CRDi,Ford Endeavour 4x2 XLT,Hyundai EON Sportz,Maruti Swift LXi BSIV,Maruti Zen VX,Maruti Omni LPG STD BSIV,Maruti Zen D PS,Fiat Linea 1.3 Multijet Emotion,Ford Aspire Titanium Plus Diesel BSIV,Ford Aspire Titanium Plus BSIV,Ford Freestyle Titanium Plus Diesel BSIV,Honda Jazz 1.2 VX i VTEC,Chevrolet Aveo U-VA 1.2 LT,Tata Nexon 1.2 Revotron XZ Plus,Chevrolet Cruze LT,Tata Tigor 1.2 Revotron XZ Option,BMW X1 sDrive20d,Hyundai Elite i20 Magna Plus Diesel,Ford EcoSport 1.5 Petrol Titanium BSIV,Fiat Grande Punto Active (Diesel),Ford Ecosport 1.0 Ecoboost Platinum Edition BSIV,Tata Tiago 2019-2020 XZ,Maruti Swift ZXI,Volkswagen Polo 1.2 MPI Comfortline,Ford Fiesta Diesel Trend,Honda City 1.5 E MT,Maruti Baleno Zeta 1.3,Mahindra Jeep MM 550 XDB,Maruti Alto STD,Maruti Celerio VDi,Hyundai i20 Active 1.4 SX with AVN,Hyundai i20 1.4 CRDi Magna,Mahindra Xylo E4 8S,Ford Fiesta Petrol Trend,Hyundai Xcent 1.2 Kappa Base,Chevrolet Optra 1.6,Ford Ikon 1.6 ZXI NXt,Ford Ikon 1.3 Flair,Maruti Swift Dzire LDIX Limited Edition,Maruti Swift 1.3 DLX,Tata New Safari DICOR 2.2 VX 4x4,Renault KWID 1.0 RXL,Toyota Innova 2.5 VX 8 STR BSIV,Fiat Punto 1.3 Active,Hyundai Xcent 1.2 VTVT E Plus,Audi Q5 2.0 TFSI Quattro,Skoda Rapid 1.6 MPI Elegance,Maruti 800 Std BSIII,Toyota Innova 2.5 GX 7 STR,Mahindra Scorpio S5 BSIV,Renault KWID AMT,Toyota Fortuner 4x2 Manual,Mahindra TUV 300 T6 Plus,Hyundai Elantra CRDi SX,Honda City 1.5 V AT Exclusive,Toyota Innova Crysta 2.8 GX AT BSIV,Tata Indigo LX Dicor,Hyundai i20 1.2 Magna,Tata Tiago 1.2 Revotron XTA,Ford Ecosport 1.5 Petrol Titanium Plus AT,Maruti Ignis 1.2 Sigma BSIV,Tata Manza Aura Safire BS IV,Toyota Corolla Altis Diesel D4DJ,Hyundai Santro Magna CNG BSIV,Fiat Linea Emotion,Maruti Zen Estilo LXI BS IV,Maruti Celerio X ZXI BSIV,Ford Figo 1.5D Trend MT,Honda Amaze E i-DTEC,Maruti Alto K10 LXI CNG Optional,Hyundai Verna CRDi SX,Maruti Swift DDiS VDI,Skoda Rapid 1.6 TDI Ambition,Hyundai Sonata AT Leather,Hyundai Sonata 2.4L AT,Nissan X-Trail SLX MT,Mahindra Xylo E8 ABS Airbag BSIV,Tata Indigo GLS,Nissan Micra Diesel XV,Hyundai Grand i10 CRDi Asta Option,Maruti Alto 800 Std Optional,Hyundai Getz GLS ABS,Nissan Kicks XL D BSIV,Maruti Ritz VDI (ABS) BS IV,Tata Nano Std BSII,Hyundai Elite i20 Petrol Asta Option,Toyota Innova 2.5 G4 Diesel 7-seater,Maruti Celerio ZXI AT,Volvo XC60 D5 Inscription,Maruti Wagon R AMT VXI Option,Ambassador Classic 2000 Dsz,Maruti Ciaz Sigma BSIV,Chevrolet Spark 1.0 LT Option Pack w/ Airbag,Fiat Linea 1.3 Emotion,Ford Figo 1.2P Titanium Plus MT,Hyundai Grand i10 1.2 Kappa Era,Volkswagen Vento 1.0 TSI Highline Plus,Ford Classic 1.6 Duratec LXI,Hyundai Verna 1.6 CRDi SX,Maruti Ertiga ZXI AT Petrol,BMW 5 Series 525d Sedan,Honda City i DTEC E,Hyundai Creta 1.6 Gamma SX Plus,Hyundai Elite i20 Diesel Asta Option,Maruti S-Cross Alpha DDiS 200 SH,Tata Indica Vista Aura 1.3 Quadrajet BSIV,Volkswagen Vento 1.5 TDI Comfortline AT,Hyundai Elite i20 Sportz Plus CVT BSIV,Volkswagen Vento IPL II Diesel Trendline,Maruti Swift VXi BSIV,Skoda Fabia 1.2 TDI Active,Toyota Corolla Altis G,Ford Fiesta 1.6 Duratec S,Maruti Wagon R VXI Plus Optional,Maruti Zen Estilo LXI Green (CNG),Tata Bolt Revotron XE,Skoda Rapid Monte Carlo 1.6 MPI AT BSIV,Tata New Safari 4X2,Renault Duster Petrol RxL,Maruti Omni CNG,Tata Indica Vista Terra TDI BSIII,Honda Mobilio S i VTEC,Renault KWID RXE,Kia Seltos HTK Plus AT D,Maruti Eeco CNG 5 Seater AC BSIV,Maruti Ciaz ZDi Plus SHVS,Mahindra Renault Logan 1.5 DLE Diesel,Ford Ikon 1.4 TDCi DuraTorq,Tata Tiago XT,Ford Endeavour Titanium Plus 4X4,Honda City V AT,Honda City i VTEC S,Ford Ecosport 1.5 Ti VCT AT Titanium,Volkswagen Jetta 2.0L TDI Comfortline,Ford Fiesta 1.4 ZXi Leather,Audi A6 2.7 TDI,Maruti Wagon R VXI BSII,Maruti Wagon R CNG LXI,Honda Jazz 1.2 V i VTEC,Maruti Ciaz VDi Plus SHVS,Audi A4 2.0 TDI,Maruti Vitara Brezza ZDi Plus Dual Tone,Maruti Ritz VXI,Hyundai Accent GLS 1.6 ABS,Mahindra Scorpio BSIV,Chevrolet Aveo 1.4,Volkswagen Polo 1.2 MPI Highline,BMW 5 Series 530i,Maruti S-Cross Delta DDiS 200 SH,Volkswagen Vento Diesel Trendline,Maruti Swift Dzire LDi,Skoda Laura Ambiente,Maruti Celerio ZDi,Ford Fiesta 1.6 Duratec EXI Ltd,Hyundai Santro Xing XK,Datsun GO Plus Remix Limited Edition,Toyota Innova 2.5 G3,Hyundai Xcent 1.2 VTVT S AT,Hyundai EON Magna,Maruti Alto 800 LXI CNG,Volkswagen Vento 1.6 Highline,Tata Nano Twist XE,Ford Figo Aspire 1.5 TDCi Ambiente ABS,OpelCorsa 1.4 GL,Mahindra XUV500 W7 BSIV,Maruti Ciaz 1.4 Zeta,Toyota Innova 2.5 GX (Diesel) 8 Seater BS IV,Tata Nano CX,Tata Tiago 1.05 Revotorq XM,Tata Zest Quadrajet 1.3,Ford Figo Petrol EXI,Honda Amaze S i-DTEC,Chevrolet Sail Hatchback 1.3 TCDi,Hyundai Elite i20 Petrol Magna Exective,Chevrolet Enjoy TCDi LT 8 Seater,Maruti Wagon R VXI AMT,Ford Figo Trend,Hyundai Tucson 2.0 e-VGT 2WD AT GL,Hyundai i20 1.2 Asta Dual Tone,Datsun RediGO SV 1.0,Datsun GO T BSIV,Chevrolet Captiva 2.0L VCDi,Tata New Safari 3L Dicor LX 4x2,Hyundai Grand i10 CRDi Asta,Honda BRV i-DTEC V MT,Toyota Fortuner 3.0 Diesel,Mahindra Verito 1.5 D2 BSIII,Hyundai Verna 1.6 i ABS,Volvo XC60 D3 Kinetic,Hyundai i20 Asta Option 1.2,Tata Xenon XT EX 4X4,Volkswagen Vento Petrol Highline,Chevrolet Beat LT LPG,Maruti Ciaz VDi,Datsun GO T Option BSIV,Mercedes-Benz E-Class E250 Edition E,Hyundai Verna SX AT Diesel,Mahindra XUV500 AT W10 1.99 mHawk,Tata Indigo GLE BSIII,Maruti Swift 1.3 LXI,Hyundai Elantra 2.0 SX AT,Maruti S-Cross Sigma DDiS 200 SH,Chevrolet Sail LS ABS,Honda City 1.5 V Elegance,Maruti Grand Vitara MT,Tata Manza Club Class Quadrajet90 EX,Tata Tiago 1.05 Revotorq XZ Plus,Fiat Linea T Jet Plus,Honda Civic 1.8 V MT,Hyundai Grand i10 1.2 Kappa Sportz AT,Hyundai Venue SX Opt Turbo BSIV,Ford Figo 1.5D Ambiente ABS MT,Renault Duster 110PS Diesel RxZ Plus,Ford Figo Aspire 1.5 Ti-VCT Titanium,Maruti Ciaz S 1.3,Mahindra Ingenio CRDe,Volkswagen Vento 1.5 Highline Plus AT 16 Alloy,Toyota Corolla Altis 1.8 GL,Audi A4 1.8 TFSI,Toyota Innova 2.5 EV Diesel PS 7 Seater BSIII,Ambassador Grand 1800 ISZ MPFI PW CL,Skoda Laura Ambiente 2.0 TDI CR AT,Mahindra Xylo Celebration Edition BSIV,Volkswagen CrossPolo 1.2 MPI,Maruti Ertiga VXI Petrol,Hyundai Xcent 1.1 CRDi S,Hyundai i20 1.2 Magna Executive,Maruti Swift Star VDI,Hyundai i10 Magna 1.1 iTech SE,Skoda Laura Elegance 2.0 TDI CR AT,Ford EcoSport 1.5 Diesel Trend BSIV,Maruti Celerio ZXI AMT BSIV,Hyundai EON Magna Plus Option,Tata Tiago 1.2 Revotron XT,Hyundai Grand i10 Asta Option AT,Ford Endeavour 2.5L 4X2,Maruti Ignis 1.2 AMT Alpha BSIV,Tata Nexon 1.5 Revotorq XM,Ford Fiesta 1.4 ZXi Duratec,Maruti Esteem AX,Honda Amaze V Diesel BSIV,Skoda Rapid 1.5 TDI Ambition,Tata Indica Vista Aqua 1.3 Quadrajet BSIV,Hyundai Creta 1.6 SX,Hyundai i10 Sportz AT,Mahindra Bolero SLX 4WD BSIII,Mahindra Scorpio S9 BSIV,Honda City 1.3 DX,Tata Nano Lx BSIII,Maruti 800 AC Uniq,Mahindra Scorpio VLX 2WD AT BSIV,Land Rover Range Rover Evoque 2.2L Dynamic,Tata Spacio SA 6 Seater,Hyundai Verna 1.4 CRDi,Mercedes-Benz E-Class 280 CDI,Maruti Swift ZDI,Nissan Micra Active XV,Fiat Linea Active (Diesel),Fiat Punto 1.4 Emotion,Ford EcoSport 1.5 Diesel Trend Plus BSIV,Renault Duster 110PS Diesel RxZ AWD,Hyundai Verna Transform VTVT,Maruti Gypsy King Hard Top Ambulance BSIV,Ford Fiesta 1.4 SXi TDCi,Maruti Baleno Zeta Automatic,Tata Indica Vista Terra Quadrajet 1.3L BS IV,Toyota Etios VXD,Mahindra Xylo E9,Toyota Etios Liva VX,Mahindra Xylo H4,Ford Classic 1.4 Duratorq LXI,Chevrolet Aveo U-VA 1.2,Honda Jazz 1.5 S i DTEC,Toyota Innova 2.5 GX 8 STR BSIV,Tata New Safari DICOR 2.2 VX 4x2,Fiat Grande Punto EVO 90HP 1.3 Sport,Fiat Grande Punto Emotion 90Hp,Ford Fiesta Classic 1.6 Duratec CLXI,Tata Sumo Gold EX BSIII,Maruti A-Star AT VXI,Nissan Terrano XL Plus ICC WT20 SE,Hyundai Accent Executive CNG,Hyundai Creta 1.6 E Plus,Audi A6 2.8 FSI,Hyundai Xcent 1.2 CRDi S,Hyundai Santa Fe 4X4,Honda Amaze E i-Vtech,Mahindra Thar 4X2,Maruti Swift Dzire LXI Option,Hyundai i20 1.2 Asta Option,Maruti Baleno RS 1.0 Petrol,Skoda Superb LK 1.8 TSI AT,Volkswagen Jetta 1.9 TDI Comfortline DSG,Volkswagen Vento 1.5 TDI Highline AT,Honda Amaze VX AT i-Vtech,Maruti Baleno Delta Diesel,Tata Winger Deluxe - Hi Roof (AC),Datsun RediGO AMT 1.0 S,Nissan Sunny XL D,Honda Jazz Select Edition,Maruti Swift Dzire AMT VXI,Hyundai Creta 1.6 SX Automatic,Mercedes-Benz E-Class 280 CDI Elegance,Audi RS7 2015-2019 Sportback Performance,MG Hector Smart AT,Land Rover Range Rover 4.4 Diesel LWB Vogue SE,Honda City VX CVT,Volkswagen Polo GT 1.0 TSI,Tata Bolt Revotron XM,Datsun GO Plus T Option,Mahindra XUV500 AT W6 2WD,Hyundai EON Era Plus Sports Edition,Skoda Rapid 1.6 MPI AT Ambition BSIV,Ambassador CLASSIC 1500 DSL AC,Maruti Gypsy King HT BSIV,Toyota Innova 2.5 EV Diesel MS 7 Str BSIII,Mahindra Renault Logan 1.5 DLX Diesel,Tata Aria Pleasure 4x2,Honda City i-DTEC ZX,Honda City i VTEC VX,Honda Jazz 1.5 V i DTEC,Ford EcoSport 1.5 Ti VCT MT Titanium BSIV,Tata Indigo CS eLS BS IV,Ford Fiesta 1.4 SXi TDCi ABS,Mahindra Xylo H8 ABS with Airbags,Skoda Rapid 1.6 TDI PRESTIGE,Mercedes-Benz GLS 2016-2020 350d 4MATIC,Mahindra Xylo E6,Fiat Palio 1.2 Sport,Fiat Punto EVO 1.3 Dynamic,Volkswagen Jetta 1.9 TDI Trendline,Toyota Corolla H2,Maruti Zen LX - BS III,Maruti Celerio VXI Optional,Maruti Alto 800 LXI Optional,Maruti Alto 800 LXI Opt BSIV,Volkswagen Vento 1.5 TDI Highline Plus AT BSIV,Maruti Alto K10 VXI Optional,Volvo XC 90 D5 Inscription BSIV,Mahindra TUV 300 T10 Dual Tone,Honda Jazz 1.2 S i VTEC,Mahindra XUV500 W7 AT BSIV,Mahindra Thar CRDe AC,Hyundai Verna 1.6 CRDi AT SX,Toyota Etios Liva GD SP,Mahindra Verito Vibe 1.5 dCi D6,Ford EcoSport 1.5 Petrol Titanium Plus AT BSIV,Tata Harrier XE,Hyundai Xcent 1.2 CRDi SX,Fiat Linea Emotion (Diesel),Chevrolet Sail 1.3 LS,Toyota Camry Hybrid,Skoda Octavia Ambiente 1.9 TDI MT,Honda City Edge Edition Diesel SV,Ford Ecosport 1.5 DV5 MT Trend,Chevrolet Tavera Neo 3 9 Str BSIII,Honda Accord 2.4 AT,Maruti Ertiga SHVS LDI,Ford Ecosport 1.5 Diesel Titanium Plus,Ford Figo 1.5 Sports Edition MT,Ford EcoSport 1.5 TDCi Titanium Plus BE BSIV,Ford Figo Aspire 1.5 TDCi Titanium Plus,Toyota Qualis FS B3,Mahindra Scorpio VLX 2WD BSIII,Honda City i DTec V,Honda City i-DTEC VX,Nissan Terrano XE 85 PS,Fiat Punto EVO 1.3 Emotion,Toyota Fortuner 2.7 2WD AT,Mahindra XUV500 W10 AWD,Tata Indica V2 DLS BSII,Mahindra KUV 100 G80 K4 Plus,Hyundai Verna CRDi 1.6 AT EX,Tata Indigo CS LS (TDI) BS-III,Honda Amaze S Petrol BSIV,Hyundai Santro Xing XS eRLX Euro III,Hyundai Santro AT,Ford Endeavour 2.2 Titanium AT 4X2,Chevrolet Spark 1.0 LT BS3,Maruti Swift LDI,Tata Nano XM,Mahindra Verito 1.5 D6 BSIII,Toyota Innova 2.5 VX (Diesel) 8 Seater BS IV,Hyundai i20 Magna 1.4 CRDi,"
     ]
    },
    {
     "name": "stderr",
     "output_type": "stream",
     "text": [
      "C:\\Users\\zazz\\AppData\\Local\\Temp\\ipykernel_19964\\3162812405.py:4: DeprecationWarning: Conversion of an array with ndim > 0 to a scalar is deprecated, and will error in future. Ensure you extract a single element from your array before performing this operation. (Deprecated NumPy 1.25.)\n",
      "  name_ = int(nameLabel.transform([name_]))\n"
     ]
    }
   ],
   "source": [
    "for i in car_names:\n",
    "    print(i,end = ',')\n",
    "name_ = input(\"\\n Enter the car name : \")\n",
    "name_ = int(nameLabel.transform([name_]))\n"
   ]
  },
  {
   "cell_type": "code",
   "execution_count": 88,
   "metadata": {},
   "outputs": [
    {
     "name": "stdout",
     "output_type": "stream",
     "text": [
      "Petrol,Diesel,CNG,LPG,Electric,\n",
      "\n"
     ]
    },
    {
     "name": "stderr",
     "output_type": "stream",
     "text": [
      "C:\\Users\\zazz\\AppData\\Local\\Temp\\ipykernel_19964\\665390738.py:8: DeprecationWarning: Conversion of an array with ndim > 0 to a scalar is deprecated, and will error in future. Ensure you extract a single element from your array before performing this operation. (Deprecated NumPy 1.25.)\n",
      "  fuel_ = int(fuelLabel.transform([fuel_]))\n"
     ]
    }
   ],
   "source": [
    "\n",
    "year = int(input('Enter the year'))\n",
    "\n",
    "km_driven = int(input('Enter the km'))\n",
    "\n",
    "for i in fuel_type:\n",
    "    print(i, end=',')\n",
    "fuel_ = input(\"\\n Enter the fuel type : \")\n",
    "fuel_ = int(fuelLabel.transform([fuel_]))\n",
    "print('\\n')\n"
   ]
  },
  {
   "cell_type": "code",
   "execution_count": 89,
   "metadata": {},
   "outputs": [
    {
     "name": "stdout",
     "output_type": "stream",
     "text": [
      "Individual,Dealer,Trustmark Dealer,\n",
      "\n"
     ]
    },
    {
     "name": "stderr",
     "output_type": "stream",
     "text": [
      "C:\\Users\\zazz\\AppData\\Local\\Temp\\ipykernel_19964\\3120149592.py:4: DeprecationWarning: Conversion of an array with ndim > 0 to a scalar is deprecated, and will error in future. Ensure you extract a single element from your array before performing this operation. (Deprecated NumPy 1.25.)\n",
      "  seller_ = int(sellerLabel.transform([seller_]))\n"
     ]
    }
   ],
   "source": [
    "\n",
    "for i in seller_type:\n",
    "    print(i, end=',')\n",
    "seller_ = input(\"\\n Enter the seller type : \")\n",
    "seller_ = int(sellerLabel.transform([seller_]))\n",
    "print('\\n')\n"
   ]
  },
  {
   "cell_type": "code",
   "execution_count": 90,
   "metadata": {},
   "outputs": [
    {
     "name": "stdout",
     "output_type": "stream",
     "text": [
      "Manual,Automatic,"
     ]
    },
    {
     "name": "stderr",
     "output_type": "stream",
     "text": [
      "C:\\Users\\zazz\\AppData\\Local\\Temp\\ipykernel_19964\\4257840807.py:4: DeprecationWarning: Conversion of an array with ndim > 0 to a scalar is deprecated, and will error in future. Ensure you extract a single element from your array before performing this operation. (Deprecated NumPy 1.25.)\n",
      "  transmission_ = int(transmissionLabel.transform([transmission_]))\n"
     ]
    },
    {
     "name": "stdout",
     "output_type": "stream",
     "text": [
      "\n",
      "\n",
      "First Owner,Second Owner,Fourth & Above Owner,Third Owner,Test Drive Car,"
     ]
    },
    {
     "name": "stderr",
     "output_type": "stream",
     "text": [
      "C:\\Users\\zazz\\AppData\\Local\\Temp\\ipykernel_19964\\4257840807.py:11: DeprecationWarning: Conversion of an array with ndim > 0 to a scalar is deprecated, and will error in future. Ensure you extract a single element from your array before performing this operation. (Deprecated NumPy 1.25.)\n",
      "  owner_ = int(ownerLabel.transform([owner_]))\n"
     ]
    }
   ],
   "source": [
    "\n",
    "\n",
    "\n",
    "\n",
    "\n",
    "for i in transmission_type:\n",
    "    print(i, end=',')\n",
    "transmission_ = input(\"\\n Enter the transmission : \")\n",
    "transmission_ = int(transmissionLabel.transform([transmission_]))\n",
    "print('\\n')\n",
    "\n",
    "\n",
    "for i in owner_type:\n",
    "    print(i, end=',')\n",
    "owner_ = input(\"\\n Enter the owner type : \")\n",
    "owner_ = int(ownerLabel.transform([owner_]))"
   ]
  },
  {
   "cell_type": "code",
   "execution_count": 94,
   "metadata": {},
   "outputs": [
    {
     "name": "stderr",
     "output_type": "stream",
     "text": [
      "C:\\Users\\zazz\\AppData\\Local\\Packages\\PythonSoftwareFoundation.Python.3.11_qbz5n2kfra8p0\\LocalCache\\local-packages\\Python311\\site-packages\\sklearn\\base.py:493: UserWarning: X does not have valid feature names, but LinearRegression was fitted with feature names\n",
      "  warnings.warn(\n"
     ]
    },
    {
     "data": {
      "text/plain": [
       "array([870966.35591833])"
      ]
     },
     "execution_count": 94,
     "metadata": {},
     "output_type": "execute_result"
    }
   ],
   "source": [
    "selling_price_model.predict([[name_,year,km_driven,fuel_,seller_,transmission_,owner_]])\n"
   ]
  },
  {
   "cell_type": "code",
   "execution_count": null,
   "metadata": {},
   "outputs": [],
   "source": []
  },
  {
   "cell_type": "code",
   "execution_count": null,
   "metadata": {},
   "outputs": [
    {
     "name": "stdout",
     "output_type": "stream",
     "text": [
      "Petrol,Diesel,CNG,LPG,Electric,\n",
      "\n"
     ]
    },
    {
     "name": "stderr",
     "output_type": "stream",
     "text": [
      "C:\\Users\\zazz\\AppData\\Local\\Temp\\ipykernel_19964\\2456055262.py:8: DeprecationWarning: Conversion of an array with ndim > 0 to a scalar is deprecated, and will error in future. Ensure you extract a single element from your array before performing this operation. (Deprecated NumPy 1.25.)\n",
      "  fuel_ = int(fuel.transform([fuel_]))\n"
     ]
    }
   ],
   "source": [
    "year = int(input('Enter the year'))\n",
    "\n",
    "km_driven = int(input('Enter the km'))\n",
    "\n",
    "for i in fuel_type:\n",
    "    print(i, end=',')\n",
    "fuel_ = input(\"\\n Enter the fuel type : \")\n",
    "fuel_ = int(fuel.transform([fuel_]))\n",
    "print('\\n')\n",
    "\n",
    "\n",
    "\n"
   ]
  }
 ],
 "metadata": {
  "kernelspec": {
   "display_name": "Python 3",
   "language": "python",
   "name": "python3"
  },
  "language_info": {
   "codemirror_mode": {
    "name": "ipython",
    "version": 3
   },
   "file_extension": ".py",
   "mimetype": "text/x-python",
   "name": "python",
   "nbconvert_exporter": "python",
   "pygments_lexer": "ipython3",
   "version": "3.11.9"
  }
 },
 "nbformat": 4,
 "nbformat_minor": 2
}
