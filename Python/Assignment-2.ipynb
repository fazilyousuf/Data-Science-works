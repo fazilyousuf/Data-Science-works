{
 "cells": [
  {
   "cell_type": "markdown",
   "id": "3c05dcb9",
   "metadata": {},
   "source": [
    "Q. Explain the list methods sort(), copy(), index(), count(), min(), max(), reverse() with an example each."
   ]
  },
  {
   "cell_type": "code",
   "execution_count": 37,
   "id": "32e08466",
   "metadata": {},
   "outputs": [
    {
     "name": "stdout",
     "output_type": "stream",
     "text": [
      "1 ) [1, 2, 3, 4]\n",
      "2 ) [1, 2, 3, 4]\n",
      "index of 4 in numbers =  2\n",
      "count of car in the list = 2\n",
      "count of 1 in the list = 3\n",
      "smallest number in the numbers = 1\n",
      "highest number in the numbers = 4\n",
      "reversed numbers = [4, 3, 2, 1]\n",
      "reversed list=  ['himalayas', 'bike', 'car', 'car', 1, 3, 3, 8, 1, 7, 6, 1]\n"
     ]
    }
   ],
   "source": [
    "numbers = [4, 1, 3, 2,]\n",
    "list_2=[1,6,7,1,8,3,3,1,'car','car','bike','himalayas']\n",
    "numbers.sort()\n",
    "print('1 )',numbers)  \n",
    "copied_list=numbers.copy()\n",
    "print('2 )',copied_list)\n",
    "print('index of 4 in numbers = ',numbers.index(3))\n",
    "print('count of car in the list =',list_2.count('car'))\n",
    "print('count of 1 in the list =',list_2.count(1))\n",
    "print('smallest number in the numbers =',min(numbers))\n",
    "print('highest number in the numbers =',max(numbers))\n",
    "numbers.reverse()\n",
    "list_2.reverse()\n",
    "print('reversed numbers =',numbers)\n",
    "print('reversed list= ',list_2)\n",
    "\n"
   ]
  },
  {
   "cell_type": "markdown",
   "id": "27a36988",
   "metadata": {},
   "source": [
    "Q. Explain the difference between remove() and discard() functions in sets with an example each."
   ]
  },
  {
   "cell_type": "code",
   "execution_count": 41,
   "id": "b4103848",
   "metadata": {},
   "outputs": [
    {
     "data": {
      "text/plain": [
       "{2, 3, 4, 5}"
      ]
     },
     "execution_count": 41,
     "metadata": {},
     "output_type": "execute_result"
    }
   ],
   "source": [
    "set_1={1,2,3,4,5}\n",
    "set_1.remove(1)\n",
    "set_1"
   ]
  },
  {
   "cell_type": "code",
   "execution_count": 42,
   "id": "4ae3e2d8",
   "metadata": {},
   "outputs": [
    {
     "ename": "KeyError",
     "evalue": "1",
     "output_type": "error",
     "traceback": [
      "\u001b[1;31m---------------------------------------------------------------------------\u001b[0m",
      "\u001b[1;31mKeyError\u001b[0m                                  Traceback (most recent call last)",
      "Cell \u001b[1;32mIn[42], line 1\u001b[0m\n\u001b[1;32m----> 1\u001b[0m \u001b[43mset_1\u001b[49m\u001b[38;5;241;43m.\u001b[39;49m\u001b[43mremove\u001b[49m\u001b[43m(\u001b[49m\u001b[38;5;241;43m1\u001b[39;49m\u001b[43m)\u001b[49m\n\u001b[0;32m      2\u001b[0m set_1\n",
      "\u001b[1;31mKeyError\u001b[0m: 1"
     ]
    }
   ],
   "source": [
    "set_1.remove(1)\n",
    "set_1"
   ]
  },
  {
   "cell_type": "code",
   "execution_count": null,
   "id": "b2a7655c",
   "metadata": {},
   "outputs": [
    {
     "data": {
      "text/plain": [
       "{2, 3, 5}"
      ]
     },
     "execution_count": 43,
     "metadata": {},
     "output_type": "execute_result"
    }
   ],
   "source": [
    "set_1.discard(4)\n",
    "set_1"
   ]
  },
  {
   "cell_type": "code",
   "execution_count": 44,
   "id": "a66bcaa6",
   "metadata": {},
   "outputs": [
    {
     "data": {
      "text/plain": [
       "{2, 3, 5}"
      ]
     },
     "execution_count": 44,
     "metadata": {},
     "output_type": "execute_result"
    }
   ],
   "source": [
    "set_1.discard(10)\n",
    "set_1"
   ]
  },
  {
   "cell_type": "markdown",
   "id": "35969afa",
   "metadata": {},
   "source": [
    "Q. Explain the set methods: issubset(), issuperset(), isdisjoint(), union(), intersection(), difference(), symmetric_difference(), intersection_update(), difference_update(), symmetric_difference_update()"
   ]
  },
  {
   "cell_type": "code",
   "execution_count": 45,
   "id": "8fa9e276",
   "metadata": {},
   "outputs": [
    {
     "name": "stdout",
     "output_type": "stream",
     "text": [
      "True\n",
      "False\n"
     ]
    }
   ],
   "source": [
    "A = {1, 2}\n",
    "B = {1, 2, 3, 4}\n",
    "print(A.issubset(B))  \n",
    "print(B.issubset(A))  \n"
   ]
  },
  {
   "cell_type": "code",
   "execution_count": 46,
   "id": "49e84d47",
   "metadata": {},
   "outputs": [
    {
     "name": "stdout",
     "output_type": "stream",
     "text": [
      "False\n",
      "True\n"
     ]
    }
   ],
   "source": [
    "\n",
    "print(A.issuperset(B)) \n",
    "print(B.issuperset(A)) \n"
   ]
  },
  {
   "cell_type": "code",
   "execution_count": 55,
   "id": "164eb14e",
   "metadata": {},
   "outputs": [
    {
     "name": "stdout",
     "output_type": "stream",
     "text": [
      "True\n",
      "False\n",
      "False\n",
      "D is  {1, 2, 3, 4}\n",
      "intersection of A and C is {2}\n",
      "difference of A and C is {1}\n",
      "difference of C and A is {3}\n",
      "difference of A and B is {1, 2}\n"
     ]
    }
   ],
   "source": [
    "A = {1, 2}\n",
    "B = {3, 4}\n",
    "print(A.isdisjoint(B))  \n",
    "C = {2, 3}\n",
    "print(A.isdisjoint(C))  \n",
    "print(B.isdisjoint(C)) \n",
    "#no common element\n",
    "D=A.union(B)\n",
    "print('D is ',D)\n",
    "print('intersection of A and C is',A.intersection(C))\n",
    "print('difference of A and C is',A.difference(C))\n",
    "print('difference of C and A is',C.difference(A))\n",
    "print('difference of A and B is',A.difference(B))"
   ]
  },
  {
   "cell_type": "markdown",
   "id": "89e4104c",
   "metadata": {},
   "source": [
    "Q. Create the list a = [4, 7, 12, -3, 6, 12, 0]. Find the length of the list and sort the list in \n",
    "descending order. "
   ]
  },
  {
   "cell_type": "code",
   "execution_count": 59,
   "id": "ea1815e1",
   "metadata": {},
   "outputs": [
    {
     "name": "stdout",
     "output_type": "stream",
     "text": [
      "length = 7\n",
      "[12, 12, 7, 6, 4, 0, -3]\n"
     ]
    }
   ],
   "source": [
    "List_A=[4,7,12,-3,6,12,0]\n",
    "print('length =',len(List_A))\n",
    "sorted_A=sorted(List_A,reverse=True)\n",
    "print(sorted_A)"
   ]
  },
  {
   "cell_type": "markdown",
   "id": "2d517485",
   "metadata": {},
   "source": [
    "Q. Create a list fruits = [‘mango’, ‘apple’, ‘cherry’, ‘grapes’]. Add an element ‘banana’ after \n",
    "the element ‘apple’. "
   ]
  },
  {
   "cell_type": "code",
   "execution_count": 60,
   "id": "2763def7",
   "metadata": {},
   "outputs": [
    {
     "name": "stdout",
     "output_type": "stream",
     "text": [
      "['mango', 'apple', 'banana', 'cherry', 'grapes']\n"
     ]
    }
   ],
   "source": [
    "Fruits=['mango','apple','cherry','grapes']\n",
    "index_apple=Fruits.index('apple')\n",
    "Fruits.insert(index_apple+1,'banana')\n",
    "print(Fruits)\n"
   ]
  },
  {
   "cell_type": "markdown",
   "id": "c3ed58df",
   "metadata": {},
   "source": [
    "Q. Create the list my_list = [9, 23, 17, 8, 10, 45, 12, 14, 76]. Add an element 5 to the end of \n",
    "the list. Remove the element 76 from the list. "
   ]
  },
  {
   "cell_type": "code",
   "execution_count": 63,
   "id": "d892f526",
   "metadata": {},
   "outputs": [
    {
     "name": "stdout",
     "output_type": "stream",
     "text": [
      "[9, 23, 17, 8, 10, 45, 12, 14, 76, 111]\n",
      "[9, 23, 17, 8, 10, 45, 12, 14, 111]\n"
     ]
    }
   ],
   "source": [
    "my_list=[9,23,17,8,10,45,12,14,76]\n",
    "my_list.append(111)\n",
    "print(my_list)\n",
    "my_list.remove(76)\n",
    "print(my_list)"
   ]
  },
  {
   "cell_type": "markdown",
   "id": "0c4e05b9",
   "metadata": {},
   "source": [
    "Q. Create the list numbers = [2,67,12,8,9,23,48,10]. Find the minimum and maximum \n",
    "value from the list. Also find the sum of elements of this list. "
   ]
  },
  {
   "cell_type": "code",
   "execution_count": null,
   "id": "b4d1c4b5",
   "metadata": {},
   "outputs": [
    {
     "name": "stdout",
     "output_type": "stream",
     "text": [
      "max 67\n",
      "min 2\n",
      "sum 179\n"
     ]
    }
   ],
   "source": [
    "numbers=[2,67,12,8,9,23,48,10]\n",
    "print('max',max(numbers))\n",
    "print('min',min(numbers))\n",
    "print('sum',sum(numbers))"
   ]
  },
  {
   "cell_type": "markdown",
   "id": "7cfa32d1",
   "metadata": {},
   "source": [
    "Q. Write a program to append a list [10,20,30,40] to another list [‘cat’, ‘dog’, ‘lion’, ‘panda’]."
   ]
  },
  {
   "cell_type": "code",
   "execution_count": 66,
   "id": "61cdecc5",
   "metadata": {},
   "outputs": [
    {
     "name": "stdout",
     "output_type": "stream",
     "text": [
      "['cat', 'dog', 'lion', 'panda', 10, 20, 30, 40]\n",
      "[10, 20, 30, 40, 'cat', 'dog', 'lion', 'panda']\n"
     ]
    }
   ],
   "source": [
    "List_1=[10,20,30,40]\n",
    "list_2=['cat','dog','lion','panda']\n",
    "result=list_2+List_1\n",
    "print(result)\n",
    "List_1.extend(list_2)\n",
    "print(List_1)"
   ]
  }
 ],
 "metadata": {
  "kernelspec": {
   "display_name": "Python 3",
   "language": "python",
   "name": "python3"
  },
  "language_info": {
   "codemirror_mode": {
    "name": "ipython",
    "version": 3
   },
   "file_extension": ".py",
   "mimetype": "text/x-python",
   "name": "python",
   "nbconvert_exporter": "python",
   "pygments_lexer": "ipython3",
   "version": "3.11.9"
  }
 },
 "nbformat": 4,
 "nbformat_minor": 5
}
