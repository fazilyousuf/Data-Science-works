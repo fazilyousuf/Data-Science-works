{
 "cells": [
  {
   "cell_type": "markdown",
   "id": "9c4166d5",
   "metadata": {},
   "source": [
    "Q. Write a program to find the average of 3 numbers. "
   ]
  },
  {
   "cell_type": "code",
   "execution_count": 13,
   "id": "094957e9",
   "metadata": {},
   "outputs": [
    {
     "name": "stdout",
     "output_type": "stream",
     "text": [
      "4.333333333333333\n"
     ]
    }
   ],
   "source": [
    "\n",
    "num1=4\n",
    "num2=6\n",
    "num3=3\n",
    "\n",
    "\n",
    "avg= (num1+num2+num3)/3\n",
    "\n",
    "print(avg)"
   ]
  },
  {
   "cell_type": "markdown",
   "id": "1d3f0141",
   "metadata": {},
   "source": [
    "Q. Program to swap 2 variables without using a third variable"
   ]
  },
  {
   "cell_type": "code",
   "execution_count": 6,
   "id": "5f2ea289",
   "metadata": {},
   "outputs": [
    {
     "name": "stdout",
     "output_type": "stream",
     "text": [
      "5 4\n"
     ]
    }
   ],
   "source": [
    "num1=4\n",
    "num2=5\n",
    "num1,num2=num2,num1\n",
    "print(num1,num2)"
   ]
  },
  {
   "cell_type": "code",
   "execution_count": 7,
   "id": "1f4318f5",
   "metadata": {},
   "outputs": [
    {
     "name": "stdout",
     "output_type": "stream",
     "text": [
      "heyhello\n"
     ]
    }
   ],
   "source": [
    "str1='hey'\n",
    "str2='hello'\n",
    "str3=str1+str2\n",
    "print(str3)"
   ]
  },
  {
   "cell_type": "markdown",
   "id": "d727e0c2",
   "metadata": {},
   "source": [
    "Q. Given the base and height, find the area of the triangle using the equation (1/2) x base x height"
   ]
  },
  {
   "cell_type": "code",
   "execution_count": 10,
   "id": "2912e69d",
   "metadata": {},
   "outputs": [
    {
     "name": "stdout",
     "output_type": "stream",
     "text": [
      "area of triangle 12.0\n"
     ]
    }
   ],
   "source": [
    "b=4\n",
    "h=6\n",
    "area=(b*h)/2\n",
    "print('area of triangle',area)"
   ]
  }
 ],
 "metadata": {
  "kernelspec": {
   "display_name": "Python 3",
   "language": "python",
   "name": "python3"
  },
  "language_info": {
   "codemirror_mode": {
    "name": "ipython",
    "version": 3
   },
   "file_extension": ".py",
   "mimetype": "text/x-python",
   "name": "python",
   "nbconvert_exporter": "python",
   "pygments_lexer": "ipython3",
   "version": "3.11.9"
  }
 },
 "nbformat": 4,
 "nbformat_minor": 5
}
