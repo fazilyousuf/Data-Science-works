{
 "cells": [
  {
   "cell_type": "markdown",
   "id": "31428704",
   "metadata": {},
   "source": [
    "Q. Explain the following string methods each with an example: \n",
    "count(), capitalize(), upper(), lower(), isupper(), islower(), swapcase(), title(), istitle(), \n",
    "startswith(), endswith(), find(), rfind(), format(), isalnum(), isalpha(), isnumeric(), strip(), \n",
    "lstrip(), rstrip(), index(), rindex(), join(), replace(), split() "
   ]
  },
  {
   "cell_type": "code",
   "execution_count": 13,
   "id": "5adbe621",
   "metadata": {},
   "outputs": [
    {
     "name": "stdout",
     "output_type": "stream",
     "text": [
      "muhammad fazil\n",
      "count of m = 3\n",
      "capitalize firs t= Muhammad fazil\n",
      "upper case = MUHAMMAD FAZIL\n",
      "lower case = muhammad fazil\n",
      "False\n",
      "True\n"
     ]
    }
   ],
   "source": [
    "str_1= \"muhammad fazil\"\n",
    "print(str_1)\n",
    "print(\"count of m =\",str_1.count(\"m\"))\n",
    "print(\"capitalize firs t=\",str_1.capitalize())\n",
    "print(\"upper case =\",str_1.upper())\n",
    "print(\"lower case =\",str_1.lower())\n",
    "print(str_1.isupper())\n",
    "print(str_1.islower())"
   ]
  },
  {
   "cell_type": "code",
   "execution_count": 33,
   "id": "5b4645b1",
   "metadata": {},
   "outputs": [
    {
     "name": "stdout",
     "output_type": "stream",
     "text": [
      "swapped case= MUHAMMAd fAZIl\n",
      "Muhammad Fazil\n",
      "starts with m = True\n",
      "starts with f = False\n",
      "9\n",
      "change fazil to shamil = muhammaD shamil\n",
      "['muhammaD', 'FaziL']\n"
     ]
    }
   ],
   "source": [
    "str_2=\"muhammaD FaziL\"\n",
    "print('swapped case=',str_2.swapcase())\n",
    "print(str_2.title())\n",
    "print('starts with m =',str_2.startswith('m'))\n",
    "print('starts with f =',str_2.startswith('f'))\n",
    "print(str_2.find(\"FaziL\"))\n",
    "print(\"change fazil to shamil =\",str_2.replace('FaziL',\"shamil\"))\n",
    "print(str_2.split())"
   ]
  },
  {
   "cell_type": "markdown",
   "id": "5b5ce688",
   "metadata": {},
   "source": [
    "Q. Program to check whether a given string is palindrome or not"
   ]
  },
  {
   "cell_type": "code",
   "execution_count": 45,
   "id": "bef860e6",
   "metadata": {},
   "outputs": [
    {
     "name": "stdout",
     "output_type": "stream",
     "text": [
      "'1881' is palindrome\n"
     ]
    }
   ],
   "source": [
    "def ispalidrome(string):\n",
    "    string = string.lower()\n",
    "    return string == string[::-1]\n",
    "\n",
    "input_string= input('enter the string')\n",
    "\n",
    "if ispalidrome(input_string):\n",
    "    print(f\"'{input_string}' is palindrome\")\n",
    "else:\n",
    "    print(f\"'{input_string}'is not palindrome\")"
   ]
  },
  {
   "cell_type": "markdown",
   "id": "eee31208",
   "metadata": {},
   "source": [
    "Q. Write a python program to check whether a given character is a vowel or consonant. "
   ]
  },
  {
   "cell_type": "code",
   "execution_count": 53,
   "id": "cd90505e",
   "metadata": {},
   "outputs": [
    {
     "name": "stdout",
     "output_type": "stream",
     "text": [
      " the charecter 'k'is a consonant\n"
     ]
    }
   ],
   "source": [
    "def charecter_check(string):\n",
    "    string= string.lower()\n",
    "    if string.isalpha():\n",
    "        if string in 'aeiou':\n",
    "            return 'vowel'\n",
    "        else:\n",
    "            return 'consonant'\n",
    "    else:\n",
    "        return 'not an alphabet'\n",
    "\n",
    "input_str= input(\"enter\")\n",
    "\n",
    "if len(input_str) == 1:\n",
    "   result = charecter_check(input_str)\n",
    "   print(f\" the charecter '{input_str}'is a {result}\")\n",
    "else:\n",
    "   print('404 not found')"
   ]
  },
  {
   "cell_type": "markdown",
   "id": "cd5d364b",
   "metadata": {},
   "source": [
    "Q. Write a program to find whether a given number is a multiple of both 3 and 5. "
   ]
  },
  {
   "cell_type": "code",
   "execution_count": null,
   "id": "b033a837",
   "metadata": {},
   "outputs": [],
   "source": []
  },
  {
   "cell_type": "markdown",
   "id": "ac3b53f9",
   "metadata": {},
   "source": [
    "Q. Write a program to find the factors of a given positive integer. "
   ]
  },
  {
   "cell_type": "code",
   "execution_count": null,
   "id": "32a8801f",
   "metadata": {},
   "outputs": [],
   "source": []
  },
  {
   "cell_type": "markdown",
   "id": "ca16368b",
   "metadata": {},
   "source": [
    "Q. Write a program to print the multiplication table of a given number"
   ]
  },
  {
   "cell_type": "code",
   "execution_count": 62,
   "id": "61e91820",
   "metadata": {},
   "outputs": [
    {
     "name": "stdout",
     "output_type": "stream",
     "text": [
      "5 * 1 = 5\n",
      "5 * 2 = 10\n",
      "5 * 3 = 15\n",
      "5 * 4 = 20\n",
      "5 * 5 = 25\n"
     ]
    }
   ],
   "source": [
    "number=int(input(\"enter the nmbr\"))\n",
    "limit=int(input(\"enter limit\"))\n",
    "\n",
    "def mul(number):\n",
    "    for i in range(1,limit+1):\n",
    "        print(f\"{number} * {i} =\",number*i)\n",
    "mul(number)\n"
   ]
  },
  {
   "cell_type": "code",
   "execution_count": null,
   "id": "fef99662",
   "metadata": {},
   "outputs": [],
   "source": []
  },
  {
   "cell_type": "markdown",
   "id": "111cd217",
   "metadata": {},
   "source": [
    "Q. Write a program to count and print the number of vowels and consonants present in a string"
   ]
  },
  {
   "cell_type": "code",
   "execution_count": null,
   "id": "5b307853",
   "metadata": {},
   "outputs": [],
   "source": []
  }
 ],
 "metadata": {
  "kernelspec": {
   "display_name": "Python 3",
   "language": "python",
   "name": "python3"
  },
  "language_info": {
   "codemirror_mode": {
    "name": "ipython",
    "version": 3
   },
   "file_extension": ".py",
   "mimetype": "text/x-python",
   "name": "python",
   "nbconvert_exporter": "python",
   "pygments_lexer": "ipython3",
   "version": "3.11.9"
  }
 },
 "nbformat": 4,
 "nbformat_minor": 5
}
