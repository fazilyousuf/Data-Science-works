{
 "cells": [
  {
   "cell_type": "markdown",
   "id": "58442452",
   "metadata": {},
   "source": [
    "Q. Write a python function to find the factorial of a given number."
   ]
  },
  {
   "cell_type": "code",
   "execution_count": 17,
   "id": "79379079",
   "metadata": {},
   "outputs": [
    {
     "name": "stdout",
     "output_type": "stream",
     "text": [
      "120\n"
     ]
    }
   ],
   "source": [
    "def fact(num):\n",
    "    if num ==0:\n",
    "        return 1\n",
    "    else:\n",
    "        result=num*fact(num-1)\n",
    "        return result\n",
    "    \n",
    "number=int(input('enter'))\n",
    "a=fact(number)\n",
    "print(a)"
   ]
  },
  {
   "cell_type": "markdown",
   "id": "e888a0b2",
   "metadata": {},
   "source": [
    "Q. Write a python function to receive a string and return the reversed string. "
   ]
  },
  {
   "cell_type": "code",
   "execution_count": 1,
   "id": "6ae14a68",
   "metadata": {},
   "outputs": [
    {
     "data": {
      "text/plain": [
       "'lizaf'"
      ]
     },
     "execution_count": 1,
     "metadata": {},
     "output_type": "execute_result"
    }
   ],
   "source": [
    "def rev_s(string):\n",
    "    rev=string[::-1]\n",
    "    return rev\n",
    "string= input('enter')\n",
    "rev_s(string)\n"
   ]
  },
  {
   "cell_type": "markdown",
   "id": "eca1ddda",
   "metadata": {},
   "source": [
    "Q. Write a python function to receive some numbers and return the sum and average of that numbers. The function should be able to receive any number of input numbers."
   ]
  },
  {
   "cell_type": "code",
   "execution_count": null,
   "id": "c6d2cc65",
   "metadata": {},
   "outputs": [
    {
     "name": "stdout",
     "output_type": "stream",
     "text": [
      "[2.0, 5.0, 6.0, 6.0]\n",
      " Sum:19.0,Average:4.75\n"
     ]
    },
    {
     "data": {
      "text/plain": [
       "5"
      ]
     },
     "execution_count": 47,
     "metadata": {},
     "output_type": "execute_result"
    }
   ],
   "source": [
    "def sum_avg(*numbers):\n",
    "    total = sum(numbers)\n",
    "    avg = float(total) / len(numbers)\n",
    "    return print(f\" Sum:{total},Average:{avg}\")\n",
    "numbers=[]\n",
    "n=int(input('enter the number of inputs'))\n",
    "for i in range(n):\n",
    "    num = float(input(f\"enter number {i+1}:\"))\n",
    "    numbers.append(num)\n",
    "print(numbers)\n",
    "result=sum_avg(*numbers)\n",
    "\n"
   ]
  },
  {
   "cell_type": "markdown",
   "id": "69bc27e6",
   "metadata": {},
   "source": [
    "Q. Write a function to find the age of the user by receiving the year of birth."
   ]
  },
  {
   "cell_type": "code",
   "execution_count": 18,
   "id": "b48c9b49",
   "metadata": {},
   "outputs": [
    {
     "name": "stdout",
     "output_type": "stream",
     "text": [
      "your birth year : 2001\n",
      "your age =  23\n"
     ]
    }
   ],
   "source": [
    "from datetime import datetime\n",
    "current_year = datetime.now().year\n",
    "dob= int(input('enter DOB'))\n",
    "print('your birth year :',dob)\n",
    "def age(a,b):\n",
    "    result = a - b\n",
    "    return result\n",
    "age_of_person = age(current_year,dob)\n",
    "print('your age = ',age_of_person)\n",
    "\n",
    "\n",
    "\n",
    "\n",
    " "
   ]
  },
  {
   "cell_type": "markdown",
   "id": "a7f80181",
   "metadata": {},
   "source": [
    "Q. Write a program to find the longest string from a list of strings using lambda function and reduce() function. "
   ]
  },
  {
   "cell_type": "code",
   "execution_count": null,
   "id": "f9a986f0",
   "metadata": {},
   "outputs": [],
   "source": []
  },
  {
   "cell_type": "markdown",
   "id": "16c0f2c4",
   "metadata": {},
   "source": [
    "Q. Write a python function to find the hypotenuse of a right angled triangle given its base and altitude. "
   ]
  },
  {
   "cell_type": "code",
   "execution_count": 23,
   "id": "6d44fd01",
   "metadata": {},
   "outputs": [
    {
     "name": "stdout",
     "output_type": "stream",
     "text": [
      "Hypotenuse is:  5.830951894845301\n"
     ]
    }
   ],
   "source": [
    "import math\n",
    "base=int(input(\"enter the base\"))\n",
    "alt=int(input(\"enter the alt\"))\n",
    "def hyp(a,b):\n",
    "    hypotenuse = math.hypot(base,alt)\n",
    "    print(\"Hypotenuse is: \",hypotenuse)\n",
    "hyp(base,alt)\n",
    "\n"
   ]
  },
  {
   "cell_type": "code",
   "execution_count": 38,
   "id": "dcdce5b6",
   "metadata": {},
   "outputs": [
    {
     "name": "stdout",
     "output_type": "stream",
     "text": [
      "3.141590\n"
     ]
    }
   ],
   "source": [
    "number = 3.14159\n",
    "print(f\"{number:.6f}\")\n"
   ]
  }
 ],
 "metadata": {
  "kernelspec": {
   "display_name": "Python 3",
   "language": "python",
   "name": "python3"
  },
  "language_info": {
   "codemirror_mode": {
    "name": "ipython",
    "version": 3
   },
   "file_extension": ".py",
   "mimetype": "text/x-python",
   "name": "python",
   "nbconvert_exporter": "python",
   "pygments_lexer": "ipython3",
   "version": "3.11.9"
  }
 },
 "nbformat": 4,
 "nbformat_minor": 5
}
