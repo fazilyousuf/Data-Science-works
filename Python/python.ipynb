{
 "cells": [
  {
   "cell_type": "markdown",
   "metadata": {},
   "source": [
    "### python features\n",
    "\n",
    "* simple and easy to learn\n",
    "* interpreted language\n",
    "* free\n",
    "* open source\n",
    "* platform independent\n",
    "* dynaically typed\n",
    "* case sensitive"
   ]
  },
  {
   "cell_type": "code",
   "execution_count": 1,
   "metadata": {},
   "outputs": [
    {
     "name": "stdout",
     "output_type": "stream",
     "text": [
      "1,2,3,4\n"
     ]
    }
   ],
   "source": [
    "print(1,2,3,4, sep=',')"
   ]
  },
  {
   "cell_type": "markdown",
   "metadata": {},
   "source": [
    "### Variables\n",
    "* \n",
    "* "
   ]
  },
  {
   "cell_type": "markdown",
   "metadata": {},
   "source": [
    "#### Python operators\n",
    "* floor operator -- // \n",
    "         <br>5//2=2\n"
   ]
  },
  {
   "cell_type": "code",
   "execution_count": 5,
   "metadata": {},
   "outputs": [
    {
     "name": "stdout",
     "output_type": "stream",
     "text": [
      "1 False\n",
      "2 True\n",
      "3 True\n"
     ]
    }
   ],
   "source": [
    "x=1\n",
    "y=2\n",
    "z=3\n",
    "print('1',x>y)\n",
    "print('2',x<y)\n",
    "print('3',x!=y)\n"
   ]
  },
  {
   "cell_type": "markdown",
   "metadata": {},
   "source": [
    "#### Logical operator\n",
    "* and, or, not\n"
   ]
  },
  {
   "cell_type": "code",
   "execution_count": null,
   "metadata": {},
   "outputs": [
    {
     "name": "stdout",
     "output_type": "stream",
     "text": [
      "1 True\n",
      "2 False\n",
      "3 False\n"
     ]
    }
   ],
   "source": [
    "print('1',x<20)\n",
    "print('2',x>30)\n",
    "print('3',x<20 and x>30)"
   ]
  },
  {
   "cell_type": "markdown",
   "metadata": {},
   "source": [
    "#### identity operators\n",
    "* is and is not\n",
    "<br>check the memory location(reference)"
   ]
  },
  {
   "cell_type": "code",
   "execution_count": 9,
   "metadata": {},
   "outputs": [
    {
     "name": "stdout",
     "output_type": "stream",
     "text": [
      "140734574851144 140734574851144\n",
      "True\n",
      "False\n"
     ]
    }
   ],
   "source": [
    "a=10\n",
    "b=10\n",
    "print(id(a),id(b))\n",
    "print(a is b)\n",
    "print(a is not b)"
   ]
  },
  {
   "cell_type": "markdown",
   "metadata": {},
   "source": [
    "#### membership operator\n"
   ]
  },
  {
   "cell_type": "code",
   "execution_count": 14,
   "metadata": {},
   "outputs": [
    {
     "name": "stdout",
     "output_type": "stream",
     "text": [
      "1 True\n",
      "2 False\n",
      "3 True\n"
     ]
    }
   ],
   "source": [
    "print('1','p' in 'python')\n",
    "print('2','pt' in 'python')\n",
    "print('3','p'and't' in 'python')"
   ]
  },
  {
   "cell_type": "code",
   "execution_count": null,
   "metadata": {},
   "outputs": [
    {
     "name": "stdout",
     "output_type": "stream",
     "text": [
      "hello fazil\n",
      "age =  23\n",
      "529\n"
     ]
    }
   ],
   "source": [
    "# Recieving user input\n",
    "name= input('enter your name')\n",
    "a=int(input('enter age'))\n",
    "print('hello '+name)\n",
    "print('age = ',a)\n",
    "print(a**2)"
   ]
  },
  {
   "cell_type": "code",
   "execution_count": 9,
   "metadata": {},
   "outputs": [
    {
     "name": "stdout",
     "output_type": "stream",
     "text": [
      "<class 'int'>\n"
     ]
    }
   ],
   "source": [
    "print(type(a))"
   ]
  },
  {
   "cell_type": "markdown",
   "metadata": {},
   "source": [
    "#### Collection datatypes\n",
    "* list - mutable, ordered, indexed"
   ]
  },
  {
   "cell_type": "code",
   "execution_count": 39,
   "metadata": {},
   "outputs": [
    {
     "name": "stdout",
     "output_type": "stream",
     "text": [
      "[4, 5, 2, 'floor', False, [2, 3], 'hai']\n",
      "<class 'list'>\n",
      "floor\n",
      "3 hai\n",
      "7\n"
     ]
    }
   ],
   "source": [
    "list_1 = [4,5,2,'floor',False,[2,3],'hai']\n",
    "print(list_1)\n",
    "print(type(list_1))\n",
    "print(list_1[3])\n",
    "print(list_1[5][1],list_1[-1])\n",
    "print(len(list_1))\n"
   ]
  },
  {
   "cell_type": "markdown",
   "metadata": {},
   "source": [
    "* Slicing\n",
    "list_name[start index:end index+1]"
   ]
  },
  {
   "cell_type": "code",
   "execution_count": null,
   "metadata": {},
   "outputs": [
    {
     "data": {
      "text/plain": [
       "[5, 2]"
      ]
     },
     "execution_count": 15,
     "metadata": {},
     "output_type": "execute_result"
    }
   ],
   "source": [
    "list_1[1:3]"
   ]
  },
  {
   "cell_type": "code",
   "execution_count": 16,
   "metadata": {},
   "outputs": [
    {
     "data": {
      "text/plain": [
       "[4, 5, 2, 'floor', False]"
      ]
     },
     "execution_count": 16,
     "metadata": {},
     "output_type": "execute_result"
    }
   ],
   "source": [
    "list_1[:5]"
   ]
  },
  {
   "cell_type": "code",
   "execution_count": 20,
   "metadata": {},
   "outputs": [
    {
     "data": {
      "text/plain": [
       "[5, 'floor', [2, 3]]"
      ]
     },
     "execution_count": 20,
     "metadata": {},
     "output_type": "execute_result"
    }
   ],
   "source": [
    "list_1[1:7:2]"
   ]
  },
  {
   "cell_type": "code",
   "execution_count": 24,
   "metadata": {},
   "outputs": [
    {
     "name": "stdout",
     "output_type": "stream",
     "text": [
      "[1000, 5, 2, 'floor', False, [2, 3], 'hai']\n",
      "<class 'int'>\n"
     ]
    }
   ],
   "source": [
    "list_1[0]=1000\n",
    "print(list_1)\n",
    "print(type(list_1[0]))"
   ]
  },
  {
   "cell_type": "markdown",
   "metadata": {},
   "source": [
    "* append and extend"
   ]
  },
  {
   "cell_type": "code",
   "execution_count": 27,
   "metadata": {},
   "outputs": [
    {
     "data": {
      "text/plain": [
       "[1000, 5, 2, 'floor', False, [2, 3], 'hai', 'try', 'try', 'try']"
      ]
     },
     "execution_count": 27,
     "metadata": {},
     "output_type": "execute_result"
    }
   ],
   "source": [
    "list_1.append('try')\n",
    "list_1"
   ]
  },
  {
   "cell_type": "code",
   "execution_count": 28,
   "metadata": {},
   "outputs": [
    {
     "data": {
      "text/plain": [
       "[1000,\n",
       " 5,\n",
       " 2,\n",
       " 'floor',\n",
       " False,\n",
       " [2, 3],\n",
       " 'hai',\n",
       " 'try',\n",
       " 'try',\n",
       " 'try',\n",
       " 1,\n",
       " 2,\n",
       " 3,\n",
       " [4, 2]]"
      ]
     },
     "execution_count": 28,
     "metadata": {},
     "output_type": "execute_result"
    }
   ],
   "source": [
    "list_1.extend([1,2,3,[4,2]])\n",
    "list_1"
   ]
  },
  {
   "cell_type": "code",
   "execution_count": 40,
   "metadata": {},
   "outputs": [
    {
     "data": {
      "text/plain": [
       "[4, 5, 'hey', 2, 'floor', False, [2, 3], 'hai']"
      ]
     },
     "execution_count": 40,
     "metadata": {},
     "output_type": "execute_result"
    }
   ],
   "source": [
    "list_1.insert(2,'hey')\n",
    "list_1"
   ]
  },
  {
   "cell_type": "code",
   "execution_count": 31,
   "metadata": {},
   "outputs": [
    {
     "data": {
      "text/plain": [
       "[1000, 5, 'hey', 2, 'floor', False, [2, 3], 'hai', 'try', 1, 2, 3, [4, 2]]"
      ]
     },
     "execution_count": 31,
     "metadata": {},
     "output_type": "execute_result"
    }
   ],
   "source": [
    "list_1.remove('try')\n",
    "list_1"
   ]
  },
  {
   "cell_type": "code",
   "execution_count": 42,
   "metadata": {},
   "outputs": [
    {
     "name": "stdout",
     "output_type": "stream",
     "text": [
      "<class 'list'>\n"
     ]
    }
   ],
   "source": [
    "\n",
    "print(type(list_1))"
   ]
  },
  {
   "cell_type": "code",
   "execution_count": 43,
   "metadata": {},
   "outputs": [
    {
     "data": {
      "text/plain": [
       "[4, 5, 'hey', 2, 'floor', False, [2, 3], 'hai']"
      ]
     },
     "execution_count": 48,
     "metadata": {},
     "output_type": "execute_result"
    }
   ],
   "source": [
    "list_1"
   ]
  },
  {
   "cell_type": "markdown",
   "metadata": {},
   "source": [
    "* Tuple - immutable, ordered, indexed"
   ]
  },
  {
   "cell_type": "code",
   "execution_count": 47,
   "metadata": {},
   "outputs": [
    {
     "name": "stdout",
     "output_type": "stream",
     "text": [
      "(1, 2, 3, 'hai', [5, 6, 7], 'hell')\n"
     ]
    },
    {
     "data": {
      "text/plain": [
       "(7, 7, 'hai')"
      ]
     },
     "execution_count": 47,
     "metadata": {},
     "output_type": "execute_result"
    }
   ],
   "source": [
    "tuple_1=(1,2,3,'hai',[5,6,7],'hell')\n",
    "print(tuple_1)\n",
    "tuple_2=7,7,'hai'\n",
    "tuple_2\n"
   ]
  },
  {
   "cell_type": "code",
   "execution_count": 49,
   "metadata": {},
   "outputs": [
    {
     "name": "stdout",
     "output_type": "stream",
     "text": [
      "[5, 6, 7]\n",
      "(1, 2, 3, 'hai', [5, 10, 7], 'hell')\n"
     ]
    }
   ],
   "source": [
    "print(tuple_1[4])\n",
    "tuple_1[4][1]=10\n",
    "print(tuple_1)"
   ]
  },
  {
   "cell_type": "markdown",
   "metadata": {},
   "source": [
    "* Set - unordered, unindexed, no duplicates\n"
   ]
  },
  {
   "cell_type": "code",
   "execution_count": 64,
   "metadata": {},
   "outputs": [
    {
     "name": "stdout",
     "output_type": "stream",
     "text": [
      "{8, 4, 6}\n",
      "<class 'set'>\n",
      "<class 'dict'>\n",
      "{8, 'mr', 4, 6}\n",
      "{'r', 4, 6, 8, 10, 'n', 'mr'}\n"
     ]
    }
   ],
   "source": [
    "set_1={4,6,8}\n",
    "print(set_1)\n",
    "print(type(set_1))\n",
    "a={}\n",
    "print(type(a))\n",
    "set_1.add('mr')\n",
    "print(set_1)\n",
    "set_1.update(['r','n',10])\n",
    "print(set_1)\n"
   ]
  },
  {
   "cell_type": "code",
   "execution_count": 68,
   "metadata": {},
   "outputs": [
    {
     "name": "stdout",
     "output_type": "stream",
     "text": [
      "{'r', 4, 6, 'n', 'mr'}\n"
     ]
    }
   ],
   "source": [
    "\n",
    "set_1.discard(10)\n",
    "print(set_1)"
   ]
  },
  {
   "cell_type": "code",
   "execution_count": 69,
   "metadata": {},
   "outputs": [
    {
     "data": {
      "text/plain": [
       "{4, 6, 'mr', 'r'}"
      ]
     },
     "execution_count": 69,
     "metadata": {},
     "output_type": "execute_result"
    }
   ],
   "source": [
    "set_1.remove('n')\n",
    "set_1"
   ]
  },
  {
   "cell_type": "code",
   "execution_count": 71,
   "metadata": {},
   "outputs": [
    {
     "name": "stdout",
     "output_type": "stream",
     "text": [
      "set()\n",
      "frozenset({1, 3, 45})\n"
     ]
    }
   ],
   "source": [
    "set_4=(1,3,45)\n",
    "set_2=set()\n",
    "set_3=frozenset(set_4)\n",
    "print(set_2)\n",
    "print(set_3)"
   ]
  },
  {
   "cell_type": "markdown",
   "metadata": {},
   "source": [
    "* Dictionary- elements are present as key value pairs\n",
    "            <br>called mapping datatype in python\n",
    "            <br>mutable values,keys immutable"
   ]
  },
  {
   "cell_type": "code",
   "execution_count": 75,
   "metadata": {},
   "outputs": [
    {
     "name": "stdout",
     "output_type": "stream",
     "text": [
      "{'name': 'john', 'age': 20, 'gender': 'male'}\n",
      "john\n",
      "{'name': 'paul', 'age': 20, 'gender': 'male'}\n",
      "{'name': 'paul', 'age': 20, 'gender': 'male', 'place': 'london'}\n"
     ]
    }
   ],
   "source": [
    "dict_1={'name': 'john','age':20,'gender':'male'}\n",
    "print(dict_1)\n",
    "print(dict_1['name'])\n",
    "dict_1['name']='paul'\n",
    "print(dict_1)\n",
    "dict_1['place']='london'\n",
    "print(dict_1)\n",
    "\n"
   ]
  },
  {
   "cell_type": "code",
   "execution_count": null,
   "metadata": {},
   "outputs": [
    {
     "name": "stdout",
     "output_type": "stream",
     "text": [
      "male\n"
     ]
    }
   ],
   "source": [
    "print(dict_1.pop('gender'))"
   ]
  },
  {
   "cell_type": "code",
   "execution_count": 77,
   "metadata": {},
   "outputs": [
    {
     "name": "stdout",
     "output_type": "stream",
     "text": [
      "('place', 'london')\n"
     ]
    }
   ],
   "source": [
    "print(dict_1.popitem())"
   ]
  },
  {
   "cell_type": "code",
   "execution_count": 80,
   "metadata": {},
   "outputs": [
    {
     "name": "stdout",
     "output_type": "stream",
     "text": [
      "{'name': 'paul', 'age': 20}\n",
      "dict_keys(['name', 'age'])\n",
      "dict_values(['paul', 20])\n",
      "dict_items([('name', 'paul'), ('age', 20)])\n"
     ]
    }
   ],
   "source": [
    "print(dict_1)\n",
    "print(dict_1.keys())\n",
    "print(dict_1.values())\n",
    "print(dict_1.items())"
   ]
  },
  {
   "cell_type": "markdown",
   "metadata": {},
   "source": []
  },
  {
   "cell_type": "markdown",
   "metadata": {},
   "source": [
    "#### Functions\n",
    "* reusable blocks of code which performs speific task\n"
   ]
  },
  {
   "cell_type": "code",
   "execution_count": 1,
   "metadata": {},
   "outputs": [
    {
     "name": "stdout",
     "output_type": "stream",
     "text": [
      "welcome\n"
     ]
    }
   ],
   "source": [
    "def message():\n",
    "    print('welcome')\n",
    "message()"
   ]
  },
  {
   "cell_type": "code",
   "execution_count": 3,
   "metadata": {},
   "outputs": [
    {
     "name": "stdout",
     "output_type": "stream",
     "text": [
      "welcome john\n"
     ]
    }
   ],
   "source": [
    "def message(name):\n",
    "    print('welcome '+name)\n",
    "message('john')"
   ]
  },
  {
   "cell_type": "code",
   "execution_count": 6,
   "metadata": {},
   "outputs": [
    {
     "name": "stdout",
     "output_type": "stream",
     "text": [
      "differnce =  7\n"
     ]
    }
   ],
   "source": [
    "def sub(a,b):\n",
    "    print('differnce = ',a-b)\n",
    "sub(10,3)"
   ]
  },
  {
   "cell_type": "code",
   "execution_count": 8,
   "metadata": {},
   "outputs": [
    {
     "name": "stdout",
     "output_type": "stream",
     "text": [
      "value of a : 3\n",
      "value of b : 5\n",
      "value of a : 3\n",
      "value of b : 5\n"
     ]
    }
   ],
   "source": [
    "def trial(a,b):\n",
    "    print(\"value of a :\",a)\n",
    "    print(\"value of b :\",b)\n",
    "trial(a=3,b=5)\n",
    "trial(b=5,a=3)\n"
   ]
  },
  {
   "cell_type": "code",
   "execution_count": 9,
   "metadata": {},
   "outputs": [
    {
     "name": "stdout",
     "output_type": "stream",
     "text": [
      "3\n"
     ]
    }
   ],
   "source": [
    "def add(a=0,b=0,c=0):\n",
    "    print(a+b+c)\n",
    "add(1,2)"
   ]
  },
  {
   "cell_type": "code",
   "execution_count": 13,
   "metadata": {},
   "outputs": [
    {
     "name": "stdout",
     "output_type": "stream",
     "text": [
      "28\n"
     ]
    }
   ],
   "source": [
    "def addition(*numbers):\n",
    "    print(sum(numbers))\n",
    "addition(1,2,3,6,5,7,4)"
   ]
  },
  {
   "cell_type": "code",
   "execution_count": 11,
   "metadata": {},
   "outputs": [
    {
     "name": "stdout",
     "output_type": "stream",
     "text": [
      "120\n"
     ]
    }
   ],
   "source": [
    "def mult(*numbers):\n",
    "    product=1\n",
    "    for i in numbers:\n",
    "        product=product*i\n",
    "    print(product)\n",
    "\n",
    "mult(1,4,5,3,2)"
   ]
  },
  {
   "cell_type": "code",
   "execution_count": 17,
   "metadata": {},
   "outputs": [
    {
     "name": "stdout",
     "output_type": "stream",
     "text": [
      "{'a': 12, 'b': 3, 'c': 5}\n",
      "12\n",
      "<class 'dict'>\n"
     ]
    }
   ],
   "source": [
    "def demo(**num):\n",
    "    print(num)\n",
    "    print(num['a'])\n",
    "    print(type(num))\n",
    "demo(a=12,b=3,c=5)"
   ]
  },
  {
   "cell_type": "code",
   "execution_count": 19,
   "metadata": {},
   "outputs": [
    {
     "name": "stdout",
     "output_type": "stream",
     "text": [
      "None\n",
      "3\n"
     ]
    }
   ],
   "source": [
    "def x():\n",
    "    xx=2\n",
    "    a=1\n",
    "    b=xx+a\n",
    "print(x())\n",
    "\n",
    "def add(a,b):\n",
    "    result=a+b\n",
    "    return result\n",
    "print(add(1,2))"
   ]
  },
  {
   "cell_type": "markdown",
   "metadata": {},
   "source": [
    "### Recursion\n"
   ]
  },
  {
   "cell_type": "code",
   "execution_count": 30,
   "metadata": {},
   "outputs": [
    {
     "name": "stdout",
     "output_type": "stream",
     "text": [
      "enterd number 100\n",
      "sum of numbers till 100 is  5050\n"
     ]
    }
   ],
   "source": [
    "num=int(input(\"enter the number\"))\n",
    "def rec_add(num):\n",
    "    if num==0:\n",
    "        return 0\n",
    "    else:\n",
    "        result = num + rec_add(num - 1)\n",
    "        return result\n",
    "print(\"enterd number\",num)\n",
    "result = rec_add(num)\n",
    "print(f\"sum of numbers till {num} is \",result)\n",
    "\n"
   ]
  },
  {
   "cell_type": "markdown",
   "metadata": {},
   "source": [
    "#### lamda function\n",
    "* anonymous , fn without a name\n"
   ]
  },
  {
   "cell_type": "code",
   "execution_count": 31,
   "metadata": {},
   "outputs": [
    {
     "data": {
      "text/plain": [
       "11"
      ]
     },
     "execution_count": 31,
     "metadata": {},
     "output_type": "execute_result"
    }
   ],
   "source": [
    "largest = lambda a,b:a if a>b else b\n",
    "largest(10,11)"
   ]
  },
  {
   "cell_type": "code",
   "execution_count": 34,
   "metadata": {},
   "outputs": [
    {
     "name": "stdout",
     "output_type": "stream",
     "text": [
      "[6, 3, 9, 12]\n",
      "[1, 4, 16, 36, 9, 4, 4, 81, 144]\n"
     ]
    }
   ],
   "source": [
    "# filter function\n",
    "#map function\n",
    "\n",
    "my_list=[1,2,4,6,3,2,2,9,12]\n",
    "mul_3 = list(filter(lambda x : x%3==0, my_list))\n",
    "squa = list(map(lambda x: x**2,my_list))\n",
    "print(mul_3)\n",
    "print(squa)"
   ]
  },
  {
   "cell_type": "code",
   "execution_count": 35,
   "metadata": {},
   "outputs": [
    {
     "name": "stdout",
     "output_type": "stream",
     "text": [
      "8.0\n"
     ]
    }
   ],
   "source": [
    "#### modules -- A file containing a set of functions\n",
    "\n",
    "import math\n",
    "print(math.sqrt(64))\n",
    "\n",
    "\n"
   ]
  },
  {
   "cell_type": "code",
   "execution_count": 38,
   "metadata": {},
   "outputs": [
    {
     "name": "stdout",
     "output_type": "stream",
     "text": [
      "5\n",
      "3\n"
     ]
    }
   ],
   "source": [
    "from math import ceil,floor\n",
    "print(ceil(4.5))\n",
    "print(floor(3.9))"
   ]
  },
  {
   "cell_type": "code",
   "execution_count": 39,
   "metadata": {},
   "outputs": [
    {
     "name": "stdout",
     "output_type": "stream",
     "text": [
      "3.872983346207417\n"
     ]
    }
   ],
   "source": [
    "from math import sqrt as sq\n",
    "print(sq(15))"
   ]
  },
  {
   "cell_type": "code",
   "execution_count": null,
   "metadata": {},
   "outputs": [],
   "source": []
  },
  {
   "cell_type": "code",
   "execution_count": 6,
   "metadata": {},
   "outputs": [
    {
     "name": "stdout",
     "output_type": "stream",
     "text": [
      "your birth year : 2001\n",
      "your age =  23\n"
     ]
    }
   ],
   "source": [
    "from datetime import datetime\n",
    "current_year = datetime.now().year\n",
    "dob= int(input('enter DOB'))\n",
    "print('your birth year :',dob)\n",
    "def age(a,b):\n",
    "    result = a - b\n",
    "    return result\n",
    "age_of_person = age(current_year,dob)\n",
    "print('your age = ',age_of_person)"
   ]
  },
  {
   "cell_type": "markdown",
   "metadata": {},
   "source": [
    "#### OOPS\n",
    "\n"
   ]
  },
  {
   "cell_type": "code",
   "execution_count": null,
   "metadata": {},
   "outputs": [
    {
     "name": "stdout",
     "output_type": "stream",
     "text": [
      "Name :fazil,Gender : male\n"
     ]
    }
   ],
   "source": [
    "class Interns:\n",
    "    species = \"human\"\n",
    "    def __init__(self,name,dob,gender):\n",
    "        self.name = name\n",
    "        self.dob = dob\n",
    "        self.gender = gender\n",
    "    def disp_info(self):\n",
    "        print(f\"Name :{self.name},Gender : {self.gender}\")\n",
    "   \n",
    "        \n",
    "    \n",
    "\n",
    "obj1 = Interns(\"fazil\",2001,\"male\")\n",
    "\n",
    "obj1.disp_info()\n",
    "              \n",
    "\n"
   ]
  },
  {
   "cell_type": "code",
   "execution_count": 10,
   "metadata": {},
   "outputs": [
    {
     "name": "stdout",
     "output_type": "stream",
     "text": [
      "my name is Rodger\n",
      "species : mammal\n",
      "species : mammal\n",
      "my name is Tommy\n"
     ]
    }
   ],
   "source": [
    "class Dog:\n",
    "    species = \"mammal\" #class ATTRIBUTE\n",
    "    def __init__(self,name):\n",
    "        self.my_name = name #instance attribute\n",
    "    def speak(self):\n",
    "        print(\"my name is {}\".format(self.my_name))\n",
    "\n",
    "a = Dog(\"Rodger\")\n",
    "a.speak()\n",
    "print(\"species :\",a.species)\n",
    "\n",
    "b = Dog(\"Tommy\")\n",
    "print(\"species :\",b.species)\n",
    "b.speak()"
   ]
  },
  {
   "cell_type": "markdown",
   "metadata": {},
   "source": [
    "#### inheritance\n"
   ]
  },
  {
   "cell_type": "code",
   "execution_count": 23,
   "metadata": {},
   "outputs": [
    {
     "name": "stdout",
     "output_type": "stream",
     "text": [
      "parent\n",
      "parent\n",
      "black\n",
      "brown\n",
      "f1 from parent\n",
      "f1 from parent\n",
      "f2 from parent\n",
      "-------\n",
      "f2 from parent\n",
      "f2 from child\n",
      "------\n",
      "f3 from child\n"
     ]
    }
   ],
   "source": [
    "class Parent:\n",
    "    parent_name = \"parent\"\n",
    "    hair_color = \"black\"\n",
    "    def f1(self):\n",
    "        print(\"f1 from parent\")\n",
    "    def f2(self):\n",
    "        print(\"f2 from parent\")\n",
    "class Child(Parent):\n",
    "    hair_color = \"brown\" \n",
    "    def f2(self):\n",
    "        super().f2()                                 #method overriding\n",
    "        print(\"f2 from child\")\n",
    "    def f3(self):\n",
    "        print(\"f3 from child\")\n",
    "\n",
    "                            \n",
    "obj = Parent()\n",
    "obj1 = Child()\n",
    "\n",
    "print(obj.parent_name)\n",
    "print(obj1.parent_name)\n",
    "print(obj.hair_color)\n",
    "print(obj1.hair_color)\n",
    "obj.f1()\n",
    "obj1.f1()\n",
    "obj.f2()\n",
    "print(\"-------\")\n",
    "obj1.f2()\n",
    "print(\"------\")\n",
    "obj1.f3()\n",
    "\n"
   ]
  },
  {
   "cell_type": "markdown",
   "metadata": {},
   "source": [
    "#### polymorphism\n",
    "###### having different forms"
   ]
  },
  {
   "cell_type": "code",
   "execution_count": 24,
   "metadata": {},
   "outputs": [
    {
     "name": "stdout",
     "output_type": "stream",
     "text": [
      "penguins cant fly\n",
      "penguins can swim\n",
      "Parrot can fly\n",
      "Parrot cant swim\n"
     ]
    }
   ],
   "source": [
    "class Penguin:\n",
    "    def fly(self):\n",
    "        print(\"penguins cant fly\")\n",
    "    def swim(self):\n",
    "        print(\"penguins can swim\")\n",
    "class Parrot:\n",
    "    def fly(self):\n",
    "        print(\"Parrot can fly\")\n",
    "    def swim(self):\n",
    "        print(\"Parrot cant swim\")\n",
    "\n",
    "b1 = Penguin()\n",
    "b2 = Parrot()\n",
    "\n",
    "for obj in (b1,b2):\n",
    "    obj.fly()                      #method overloading\n",
    "    obj.swim()\n"
   ]
  },
  {
   "cell_type": "code",
   "execution_count": 29,
   "metadata": {},
   "outputs": [
    {
     "data": {
      "text/plain": [
       "9"
      ]
     },
     "execution_count": 29,
     "metadata": {},
     "output_type": "execute_result"
    }
   ],
   "source": [
    "# operator overloading\n",
    "\n",
    "class op_overloading:\n",
    "    def __init__(self,value):\n",
    "        self.a = value\n",
    "    def __add__(self,other):\n",
    "        return self.a + other.a\n",
    "obj1 = op_overloading(4)\n",
    "obj2 = op_overloading(5)\n",
    "\n",
    "obj1 + obj2"
   ]
  },
  {
   "cell_type": "code",
   "execution_count": 39,
   "metadata": {},
   "outputs": [
    {
     "name": "stdout",
     "output_type": "stream",
     "text": [
      "10\n",
      "12\n",
      "100\n",
      "500\n"
     ]
    }
   ],
   "source": [
    "#encapsulation\n",
    "\n",
    "class Trial:\n",
    "    x=10            #public\n",
    "    _x=12           #protected\n",
    "    __x = 100       #private(encapsulated)\n",
    "\n",
    "    def getx(self):\n",
    "        print(self.__x)\n",
    "    def setx(self,value):\n",
    "        self.__x = value\n",
    "\n",
    "obj = Trial()\n",
    "print(obj.x)\n",
    "print(obj._x)\n",
    "\n",
    "obj.getx()\n",
    "obj.setx(500)\n",
    "obj.getx()\n"
   ]
  },
  {
   "cell_type": "markdown",
   "metadata": {},
   "source": [
    "#### Exception"
   ]
  },
  {
   "cell_type": "code",
   "execution_count": null,
   "metadata": {},
   "outputs": [
    {
     "name": "stdout",
     "output_type": "stream",
     "text": [
      "0.5\n"
     ]
    }
   ],
   "source": [
    "num1 = int(input(\"enter number\"))\n",
    "num2 = int(input(\"enter number\"))\n",
    "print(num1/num2)\n",
    "\n",
    "\n",
    "# {\n",
    "# \t\"name\": \"ZeroDivisionError\",\n",
    "# \t\"message\": \"division by zero\",\n",
    "# \t\"stack\": \"---------------------------------------------------------------------------\n",
    "# ZeroDivisionError                         Traceback (most recent call last)\n",
    "# Cell In[4], line 3\n",
    "#       1 num1 = int(input(\\\"enter number\\\"))\n",
    "#       2 num2 = int(input(\\\"enter number\\\"))\n",
    "# ----> 3 print(num1/num2)\n",
    "\n",
    "# ZeroDivisionError: division by zero\"\n",
    "# }"
   ]
  },
  {
   "cell_type": "code",
   "execution_count": 7,
   "metadata": {},
   "outputs": [
    {
     "name": "stdout",
     "output_type": "stream",
     "text": [
      "0.2\n",
      "no error\n",
      "executed\n"
     ]
    }
   ],
   "source": [
    "num1 = int(input(\"enter number\"))\n",
    "num2 = int(input(\"enter number\"))\n",
    "\n",
    "try:\n",
    "    res=num1/num2\n",
    "    print(res)\n",
    "except:\n",
    "    num2=1\n",
    "    res=num1/num2\n",
    "    print(res)\n",
    "else:\n",
    "    print(\"no error\")\n",
    "finally:\n",
    "    print(\"executed\")\n",
    "    "
   ]
  },
  {
   "cell_type": "code",
   "execution_count": 8,
   "metadata": {},
   "outputs": [
    {
     "name": "stdout",
     "output_type": "stream",
     "text": [
      "zero division error\n"
     ]
    }
   ],
   "source": [
    "# Handling specific exceptions\n",
    "\n",
    "a=8\n",
    "b=0\n",
    "try:\n",
    "    print(a/b)\n",
    "except ZeroDivisionError:\n",
    "    print(\"zero division error\")\n"
   ]
  },
  {
   "cell_type": "code",
   "execution_count": 9,
   "metadata": {},
   "outputs": [
    {
     "name": "stdout",
     "output_type": "stream",
     "text": [
      "index error\n"
     ]
    }
   ],
   "source": [
    "a=8\n",
    "b=0\n",
    "c=[1,2,3]\n",
    "try:\n",
    "    print(c[8])\n",
    "    print(a/b)\n",
    "except ZeroDivisionError:\n",
    "    print(\"zero division error\")\n",
    "except IndexError:\n",
    "    print(\"index error\")\n"
   ]
  },
  {
   "cell_type": "code",
   "execution_count": 10,
   "metadata": {},
   "outputs": [
    {
     "ename": "Exception",
     "evalue": "negative value",
     "output_type": "error",
     "traceback": [
      "\u001b[1;31m---------------------------------------------------------------------------\u001b[0m",
      "\u001b[1;31mException\u001b[0m                                 Traceback (most recent call last)",
      "Cell \u001b[1;32mIn[10], line 3\u001b[0m\n\u001b[0;32m      1\u001b[0m x\u001b[38;5;241m=\u001b[39m\u001b[38;5;241m-\u001b[39m\u001b[38;5;241m90\u001b[39m\n\u001b[0;32m      2\u001b[0m \u001b[38;5;28;01mif\u001b[39;00m x\u001b[38;5;241m<\u001b[39m\u001b[38;5;241m0\u001b[39m:\n\u001b[1;32m----> 3\u001b[0m     \u001b[38;5;28;01mraise\u001b[39;00m \u001b[38;5;167;01mException\u001b[39;00m(\u001b[38;5;124m'\u001b[39m\u001b[38;5;124mnegative value\u001b[39m\u001b[38;5;124m'\u001b[39m)\n",
      "\u001b[1;31mException\u001b[0m: negative value"
     ]
    }
   ],
   "source": [
    "x=-90\n",
    "if x<0:\n",
    "    raise Exception('negative value')"
   ]
  },
  {
   "cell_type": "code",
   "execution_count": 12,
   "metadata": {},
   "outputs": [
    {
     "name": "stdout",
     "output_type": "stream",
     "text": [
      "0\n",
      "executed\n"
     ]
    }
   ],
   "source": [
    "x=-90\n",
    "try:\n",
    "    if x<0:\n",
    "        raise Exception('negative value')\n",
    "except:\n",
    "    x=0\n",
    "    print(x)\n",
    "finally:\n",
    "    print('executed')"
   ]
  },
  {
   "cell_type": "code",
   "execution_count": 2,
   "metadata": {},
   "outputs": [
    {
     "name": "stdout",
     "output_type": "stream",
     "text": [
      "Hai\n",
      "my self Muhammad Fazil\n"
     ]
    }
   ],
   "source": [
    "file1 = open('demo.txt','r')\n",
    "print(file1.read())\n",
    "file1.close()"
   ]
  },
  {
   "cell_type": "code",
   "execution_count": 3,
   "metadata": {},
   "outputs": [
    {
     "name": "stdout",
     "output_type": "stream",
     "text": [
      "<_io.TextIOWrapper name='demo.txt' mode='a' encoding='cp1252'>\n"
     ]
    }
   ],
   "source": [
    "file1 = open('demo.txt','a')\n",
    "file1.write('Added new content')\n",
    "print(file1)\n",
    "file1.close()"
   ]
  },
  {
   "cell_type": "code",
   "execution_count": 5,
   "metadata": {},
   "outputs": [
    {
     "name": "stdout",
     "output_type": "stream",
     "text": [
      "Hai\n",
      "my self Muhammad FazilAdded new content\n"
     ]
    }
   ],
   "source": [
    "file1= open('demo.txt')\n",
    "print(file1.read())"
   ]
  },
  {
   "cell_type": "code",
   "execution_count": 6,
   "metadata": {},
   "outputs": [],
   "source": [
    "file2 = open('demo.txt','w')\n",
    "file2.write('new content(Existing content deleted)')\n",
    "file2.close()"
   ]
  },
  {
   "cell_type": "code",
   "execution_count": 8,
   "metadata": {},
   "outputs": [
    {
     "name": "stdout",
     "output_type": "stream",
     "text": [
      "new content(Existing content deleted)\n"
     ]
    }
   ],
   "source": [
    "file2 = open('demo.txt')\n",
    "print(file2.read())"
   ]
  },
  {
   "cell_type": "code",
   "execution_count": 9,
   "metadata": {},
   "outputs": [],
   "source": [
    "file3 = open('demo1.text','x')\n",
    "file3.write('new file created')\n",
    "file3.close()"
   ]
  },
  {
   "cell_type": "code",
   "execution_count": 13,
   "metadata": {},
   "outputs": [
    {
     "name": "stdout",
     "output_type": "stream",
     "text": [
      "new file created\n"
     ]
    }
   ],
   "source": [
    "file3 = open('demo1.text','r')\n",
    "print(file3.read())\n",
    "file3.close()"
   ]
  },
  {
   "cell_type": "code",
   "execution_count": null,
   "metadata": {},
   "outputs": [],
   "source": []
  },
  {
   "cell_type": "markdown",
   "metadata": {},
   "source": []
  }
 ],
 "metadata": {
  "kernelspec": {
   "display_name": "myenv",
   "language": "python",
   "name": "python3"
  },
  "language_info": {
   "codemirror_mode": {
    "name": "ipython",
    "version": 3
   },
   "file_extension": ".py",
   "mimetype": "text/x-python",
   "name": "python",
   "nbconvert_exporter": "python",
   "pygments_lexer": "ipython3",
   "version": "3.11.9"
  }
 },
 "nbformat": 4,
 "nbformat_minor": 2
}
