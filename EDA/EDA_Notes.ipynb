{
 "cells": [
  {
   "cell_type": "markdown",
   "metadata": {},
   "source": []
  },
  {
   "cell_type": "markdown",
   "metadata": {},
   "source": [
    "### EDA(Exploratory Data Analysis)\n",
    "\n",
    "* method used to analyse and summarize the dataset\n",
    "* helps to find out the hidden patternas and relationships within data\n",
    "* includes techniques like feature engineering , dimensionality reduction, etc.\n",
    "\n",
    "#### processes\n",
    "* Inspection of data\n",
    "* summary statistics\n",
    "* visualization\n",
    "* cleaning\n",
    "* feature engineering\n",
    "* correlation Analysis\n",
    "* Dimensionality reduction\n"
   ]
  }
 ],
 "metadata": {
  "language_info": {
   "name": "python"
  }
 },
 "nbformat": 4,
 "nbformat_minor": 2
}
